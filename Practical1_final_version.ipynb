{
  "cells": [
    {
      "cell_type": "markdown",
      "metadata": {
        "id": "view-in-github",
        "colab_type": "text"
      },
      "source": [
        "<a href=\"https://colab.research.google.com/github/softconrob/SDG-mapping/blob/main/Practical1_final_version.ipynb\" target=\"_parent\"><img src=\"https://colab.research.google.com/assets/colab-badge.svg\" alt=\"Open In Colab\"/></a>"
      ]
    },
    {
      "cell_type": "markdown",
      "metadata": {
        "id": "id1w7kwZVF3I"
      },
      "source": [
        "# Practical 1 : Implementation of Linear Regression (Ridge, Lasso)\n",
        "\n",
        "This practical has two parts. The first part is to implement and train a linear regression model using the least squares method. We will implement the model and train it on the winequality dataset using the NumPy library. Learning curves will be plotted to determine if the model is overfitting or underfitting.\n",
        "\n",
        "In the second part, we will apply the basis expansion to the dataset and train linear regression models with regularization, i.e., Ridge and Lasso. These tasks do not need to be implemented from scratch -- We will use the functions from the scikit-learn library. During training, we use the validation data to determine the optimal hyperparameters. \n",
        "An optional task is to implement the hyperparameter selection using the k-fold cross-validation method. Five bonus points are awarded for this task. \n",
        "\n"
      ]
    },
    {
      "cell_type": "markdown",
      "metadata": {
        "id": "J9YancCIPxVa"
      },
      "source": [
        "We will use the following packages:"
      ]
    },
    {
      "cell_type": "code",
      "execution_count": 1,
      "metadata": {
        "id": "CTZv9o5i4gy3"
      },
      "outputs": [],
      "source": [
        "import numpy as np\n",
        "import matplotlib.pyplot as plt\n",
        "import _pickle as cp"
      ]
    },
    {
      "cell_type": "code",
      "source": [
        "from google.colab import drive\n",
        "drive.mount('/content/drive')"
      ],
      "metadata": {
        "colab": {
          "base_uri": "https://localhost:8080/"
        },
        "id": "4UrNfAvRm2Vt",
        "outputId": "015ccaa8-5162-4865-9764-83dfa625a1c0"
      },
      "execution_count": 2,
      "outputs": [
        {
          "output_type": "stream",
          "name": "stdout",
          "text": [
            "Mounted at /content/drive\n"
          ]
        }
      ]
    },
    {
      "cell_type": "markdown",
      "metadata": {
        "id": "b1-ZQWqTVPno"
      },
      "source": [
        "## Dataset\n",
        "We will use the winequality dataset for this practical. The dataset is available here:\n",
        "https://archive.ics.uci.edu/ml/datasets/Wine+Quality. \n",
        "In order to make it easier to import the dataset, the dataset has been converted to the numpy array format and shuffled, so that we can start the practical directly. The converted dataset is available on the OLAT page.\n",
        "\n",
        "#### Attribute Information\n",
        "Input variables (based on physicochemical tests):\n",
        "1. fixed acidity\n",
        "2. volatile acidity\n",
        "3. citric acid\n",
        "4. residual sugar\n",
        "5. chlorides\n",
        "6. free sulfur dioxide\n",
        "7. total sulfur dioxide\n",
        "8. density\n",
        "9. pH\n",
        "10. sulphates\n",
        "11. alcohol\n",
        "\n",
        "Output variable (based on sensory data):\n",
        "\n",
        "12. quality (score between 0 and 10)\n",
        "\n"
      ]
    },
    {
      "cell_type": "markdown",
      "metadata": {
        "id": "TzDL9RQiVaPY"
      },
      "source": [
        "There are two files in the dataset, one for white wine data and one for red wine data. We focus on the white wine data, which is the larger dataset. The following code loads the data:"
      ]
    },
    {
      "cell_type": "code",
      "execution_count": 42,
      "metadata": {
        "colab": {
          "base_uri": "https://localhost:8080/"
        },
        "id": "NYkwbebUVO_i",
        "outputId": "1e908043-31f1-4f70-d930-49c99d6cc93b"
      },
      "outputs": [
        {
          "output_type": "stream",
          "name": "stdout",
          "text": [
            "X is a matrix with the dimension (4898, 11). That is, 4898 data records and 11 features.\n",
            "y is a vector with 4898 values. They are the labels of the data records in X.\n"
          ]
        }
      ],
      "source": [
        "# load the white wine dataset\n",
        "# X is the feature matrix that stores the feature values of the data records\n",
        "# y is the label vector that stores the labels of the data records\n",
        "X, y = cp.load(open('/content/drive/MyDrive/Foundation of Data Science - Practical 1/Practical 1/winequality-white.pickle', 'rb'))\n",
        "\n",
        "# check the size of the data\n",
        "print(\"X is a matrix with the dimension {}. That is, {} data records and {} features.\".format(X.shape, X.shape[0], X.shape[1]))\n",
        "print(\"y is a vector with {} values. They are the labels of the data records in X.\".format(y.shape[0]))\n"
      ]
    },
    {
      "cell_type": "markdown",
      "metadata": {
        "id": "q2yKNR49Wkn8"
      },
      "source": [
        "## Understanding What We’re Predicting\n",
        "\n",
        "First, let's look at the labels. \n",
        "We make the bar chart below to show the distribution of labels in the dataset. \n",
        "The y-values are integers from 3 to 9. \n"
      ]
    },
    {
      "cell_type": "code",
      "execution_count": 43,
      "metadata": {
        "cellView": "both",
        "colab": {
          "base_uri": "https://localhost:8080/",
          "height": 295
        },
        "id": "4L_JDK3dWrsR",
        "outputId": "cfe9edf5-d2a8-4dca-ac93-cdfeac54e3d9"
      },
      "outputs": [
        {
          "output_type": "display_data",
          "data": {
            "text/plain": [
              "<Figure size 432x288 with 1 Axes>"
            ],
            "image/png": "[encoded data removed]"
          },
          "metadata": {
            "needs_background": "light"
          }
        }
      ],
      "source": [
        "# the function takes the y-values in the training data as the input and makes the bar chart. \n",
        "def plot_bar_chart_score(y):\n",
        "    fix, ax = plt.subplots()\n",
        "    unique, counts = np.unique(y, return_counts=True)\n",
        "    plt.bar(unique, counts)\n",
        "    plt.xlabel('Score')\n",
        "    plt.ylabel('Number of wines')\n",
        "    plt.title('Distribution of scores of wines')\n",
        "    plt.show()\n",
        "\n",
        "plot_bar_chart_score(y)"
      ]
    },
    {
      "cell_type": "markdown",
      "metadata": {
        "id": "CGuNg0KbWN0z"
      },
      "source": [
        "Our goal is to train a model that can take wine records in X and predict the quality of the wines.\n",
        "We split the data into training data and test data. \n",
        "In practice, we should sample randomly 80% of the data as training data and the rest as the test data. \n",
        "Though, in this practical, let's all use the same split: the **first** 80% of the data for training and the remaining 20% for testing. This makes sure we can compare your results to ours."
      ]
    },
    {
      "cell_type": "markdown",
      "metadata": {
        "id": "R3Fpt6kSPxVl"
      },
      "source": [
        "### **Task 1** \n",
        "The first task is to write a function that can split the dataset into training and testing data according to the parameter `split_coeff`. When `split_coeff` is set to 0.8, it means the function sets the first 80% of the data as the training data and the remaining 20% as the testing data. "
      ]
    },
    {
      "cell_type": "code",
      "execution_count": 44,
      "metadata": {
        "id": "6ZqbBa8bWNYg"
      },
      "outputs": [],
      "source": [
        "# The function splits the dataset into training data and testing data.\n",
        "# The parameter split_coeff is a percentage value such that\n",
        "# the first split_coeff of the dataset become the training data\n",
        "# and the remaining data become the test data\n",
        "def split_data(X, y, split_coeff=0.8):\n",
        "    # The code below is just for compilation. \n",
        "    # You need to delete it and write your own code.\n",
        "    ###################################################\n",
        "    ##### YOUR CODE STARTS HERE #######################\n",
        "    ###################################################\n",
        "\n",
        "    split_index_x = int(split_coeff * len(X))\n",
        "    split_index_y = int(split_coeff * len(y))\n",
        "\n",
        "    X_train = X[:split_index_x]\n",
        "    X_test = X[split_index_x:]\n",
        "    \n",
        "    y_train = y[:split_index_y]\n",
        "    y_test = y[split_index_y:]\n",
        "\n",
        "    ###################################################\n",
        "    ##### YOUR CODE ENDS HERE #########################\n",
        "    ###################################################\n",
        "    \n",
        "    return X_train, y_train, X_test, y_test\n"
      ]
    },
    {
      "cell_type": "markdown",
      "metadata": {
        "id": "JQX_qxSZPxVm"
      },
      "source": [
        "Your function should return the expected output as shown in the code block below. "
      ]
    },
    {
      "cell_type": "code",
      "execution_count": 45,
      "metadata": {
        "id": "3Kk5dThZPxVm",
        "outputId": "b3174038-2801-49eb-e074-31c699461c84",
        "colab": {
          "base_uri": "https://localhost:8080/"
        }
      },
      "outputs": [
        {
          "output_type": "stream",
          "name": "stdout",
          "text": [
            "Shape of X_train: (3918, 11)\n",
            "Shape of y_train: (3918,)\n",
            "Shape of X_test: (980, 11)\n",
            "Shape of y_test: (980,)\n"
          ]
        }
      ],
      "source": [
        "X_train, y_train, X_test, y_test = split_data(X, y, 0.8) # split the data with split_coeff=0.8\n",
        "\n",
        "# check the size of the splitted dataset\n",
        "print(\"Shape of X_train:\", X_train.shape) # expected output (3918, 11)\n",
        "print(\"Shape of y_train:\", y_train.shape) # expected output (3918,)\n",
        "print(\"Shape of X_test:\", X_test.shape) # expected output (980, 11)\n",
        "print(\"Shape of y_test:\", y_test.shape) # expected output (980,)"
      ]
    },
    {
      "cell_type": "markdown",
      "metadata": {
        "id": "GxjlElni2FcH"
      },
      "source": [
        "### **Task 2** \n",
        "\n",
        "As a first step, we construct a trivial model that returns the mean of the y-values in the training data for any wine record in X. We use this trivial model as a baseline. The linear regression models we build later should perform better than this trivial model."
      ]
    },
    {
      "cell_type": "code",
      "execution_count": 47,
      "metadata": {
        "colab": {
          "base_uri": "https://localhost:8080/"
        },
        "id": "-V3xFYexX1lt",
        "outputId": "bf95197b-26b8-48f0-a260-bbab86ccc442"
      },
      "outputs": [
        {
          "output_type": "stream",
          "name": "stdout",
          "text": [
            "The average of the y-values in the training data is 5.878764675855028\n"
          ]
        }
      ],
      "source": [
        "#@title\n",
        "# Task 2: implement the trivial predictor\n",
        "# The function computes the average value of y on the training label values\n",
        "def compute_average(y_train):\n",
        "    # The code below is just for compilation. \n",
        "    # You need to delete it and write your own code.\n",
        "    ###################################################\n",
        "    ##### YOUR CODE STARTS HERE #######################\n",
        "    ###################################################\n",
        "    # Hint: return the mean of y_train\n",
        "    sum_y_train = 0\n",
        "    len_y_train = len(y_train)\n",
        "\n",
        "    for i in y_train:\n",
        "      sum_y_train += i\n",
        "\n",
        "    mean_y_train = sum_y_train / len_y_train\n",
        "    \n",
        "    return mean_y_train\n",
        "    ###################################################\n",
        "    ##### YOUR CODE ENDS HERE #########################\n",
        "    ###################################################\n",
        "\n",
        "y_train_avg = compute_average(y_train)\n",
        "print(\"The average of the y-values in the training data is {}\".format(y_train_avg)) \n",
        "\n",
        "# The trivial predictor returns the average value.\n",
        "def trivial_predictor(X_test, y_train_avg):\n",
        "  return y_train_avg\n"
      ]
    },
    {
      "cell_type": "markdown",
      "metadata": {
        "id": "x531Q_SxXV14"
      },
      "source": [
        "### **Task 3**\n",
        "We next evaluate the trivial predictor on the training data and test data. \n",
        "We use mean squared error (MSE) to measure the performance of the predictor.\n",
        "The task is to implement a function that reports the mean squared error of the given predictor on the given data. "
      ]
    },
    {
      "cell_type": "code",
      "execution_count": 48,
      "metadata": {
        "colab": {
          "base_uri": "https://localhost:8080/"
        },
        "id": "mV8l6Ci9YlgL",
        "outputId": "fbd1ab4c-0fcb-4f07-c7d7-d56f2e2c5a62"
      },
      "outputs": [
        {
          "output_type": "stream",
          "name": "stdout",
          "text": [
            "Trivial Predictor\n",
            "--------------------------------------------------------------------------------\n",
            "\n",
            "MSE (Training) = 0.7768\n",
            "MSE (Testing)  = 0.8139\n"
          ]
        }
      ],
      "source": [
        "# We next test our trivial predictor on the training data and test data. \n",
        "# Implement a function that can report the mean squared error \n",
        "# of a predictor on the given data\n",
        "# Input: data and predictor\n",
        "# Output: mean squared error of the predictor on the given data\n",
        "def test_predictor(X, y, predictor: callable=None):\n",
        "    # Apply the predictor to each row of the matrix X to get the predictions\n",
        "    y_predicted = np.apply_along_axis(predictor, 1, X)\n",
        "\n",
        "    # TODO: compute the mean squared error of y\n",
        "    # The code below is just for compilation. \n",
        "    # You need to delete it and write your own code.\n",
        "    ###################################################\n",
        "    ##### YOUR CODE STARTS HERE #######################\n",
        "    ###################################################\n",
        "    sum_error = 0\n",
        "\n",
        "    for i in range(0, len(y)):\n",
        "      diff = y[i] - y_predicted[i]\n",
        "      sum_error += diff**2\n",
        "\n",
        "    mse = sum_error / len(y)\n",
        "\n",
        "    ###################################################\n",
        "    ##### YOUR CODE ENDS HERE #########################\n",
        "    ###################################################\n",
        "    \n",
        "    return mse\n",
        "\n",
        "# use the function test_predictor to test the trivial predictor\n",
        "# we use the lambda function here to pass the function trivial predictor to the function test_predictor.\n",
        "mse_trivial_predictor_train = test_predictor(X_train, y_train, lambda x: trivial_predictor(x, y_train_avg))\n",
        "mse_trivial_predictor_test = test_predictor(X_test, y_test, lambda x: trivial_predictor(x, y_train_avg))\n",
        "\n",
        "# Report the result\n",
        "print('Trivial Predictor')\n",
        "print('--------------------------------------------------------------------------------\\n')\n",
        "print('MSE (Training) = %.4f' % mse_trivial_predictor_train)\n",
        "print('MSE (Testing)  = %.4f' % mse_trivial_predictor_test)"
      ]
    },
    {
      "cell_type": "markdown",
      "metadata": {
        "id": "geiyM1Nea0az"
      },
      "source": [
        "## Train the Linear Model Using the Least Squares Method\n",
        "\n",
        "Let's next train a linear regression model on the training data. \n",
        "We use the closed form solution of the least squares estimate to compute the parameters of the linear regression model. \n",
        "This model should perform better than the trivial predictor."
      ]
    },
    {
      "cell_type": "markdown",
      "metadata": {
        "id": "WSEwFGp_bqAI"
      },
      "source": [
        "### **Task 4**\n",
        "Before training the model, we need to standardize the data, i.e., transform the data so that every feature has mean 0 and variance 1. \n",
        "\n",
        "https://en.wikipedia.org/wiki/Standard_score\n",
        "\n",
        "We first standardize the training data, and then apply the same transformation to the test data. That is, standardize the test data using the means and the standard deviations of the training data. "
      ]
    },
    {
      "cell_type": "code",
      "execution_count": 49,
      "metadata": {
        "colab": {
          "base_uri": "https://localhost:8080/"
        },
        "id": "trjwkcgybhDH",
        "outputId": "3e1a1ebe-ffb2-4439-a689-2684e5df74c1"
      },
      "outputs": [
        {
          "output_type": "stream",
          "name": "stdout",
          "text": [
            "X_train_std: (3918, 11)\n",
            "Mean: [6.85427514e+00 2.78390761e-01 3.34892802e-01 6.42623788e+00\n",
            " 4.58213374e-02 3.53263144e+01 1.38513272e+02 9.94040729e-01\n",
            " 3.18647524e+00 4.89055641e-01 1.05115799e+01]\n",
            "Standard deviation: [8.39100902e-01 9.95630176e-02 1.24249975e-01 5.06377532e+00\n",
            " 2.16660282e-02 1.71004677e+01 4.23956179e+01 2.97972269e-03\n",
            " 1.49949475e-01 1.12992053e-01 1.22536544e+00]\n"
          ]
        }
      ],
      "source": [
        "import math\n",
        "# The task is to implement a function that can standardize the data and returns the mean and std of the data.\n",
        "# Input: training data\n",
        "# Output: standardize training data, standard deviations and means\n",
        "def standardize_data(X):\n",
        "    # TODO: compute the means and standard deviations of the data, and standardize the data\n",
        "    # The code below is just for compilation. \n",
        "    # You need to replace it by your own code.\n",
        "    ###################################################\n",
        "    ##### YOUR CODE STARTS HERE #######################\n",
        "    ###################################################\n",
        "\n",
        "    #print(X)\n",
        "    mean = np.mean(X, axis=0)\n",
        "    #print(mean)\n",
        "    std = np.std(X, axis=0)\n",
        "    #print(std)\n",
        "\n",
        "\n",
        "    X_std = X\n",
        "    for i in range(0, len(X_std[0])):\n",
        "      for j in range(0, len(X_std)):\n",
        "        X_std[j][i] = (X[j][i] - mean[i]) / std[i]\n",
        "    ###################################################\n",
        "    ##### YOUR CODE ENDS HERE #########################\n",
        "    ###################################################\n",
        "    \n",
        "    return X_std, mean, std\n",
        "\n",
        "# Standardize the training data and store the means and the stds \n",
        "X_train_std, X_train_mean, X_train_std_div = standardize_data(X_train)\n",
        "print(\"X_train_std:\", X_train_std.shape)\n",
        "print(\"Mean:\", X_train_mean)\n",
        "print(\"Standard deviation:\", X_train_std_div)"
      ]
    },
    {
      "cell_type": "code",
      "execution_count": 17,
      "metadata": {
        "colab": {
          "base_uri": "https://localhost:8080/"
        },
        "id": "RjzbA5JpM759",
        "outputId": "b29e69ad-f06c-4aaa-a635-5b7a2871ff1e"
      },
      "outputs": [
        {
          "output_type": "stream",
          "name": "stdout",
          "text": [
            "(980, 11)\n"
          ]
        }
      ],
      "source": [
        "# TODO: Standardize the test data using the means and standrad deviations of the training data\n",
        "###################################################\n",
        "##### YOUR CODE STARTS HERE #######################\n",
        "###################################################\n",
        "X_test_std = X_test\n",
        "\n",
        "for i in range(0, len(X_test_std[0])):\n",
        "      for j in range(0, len(X_test_std)):\n",
        "        X_test_std[j][i] = (X_test[j][i] - X_train_mean[i]) / X_train_std_div[i]\n",
        "print(X_test_std.shape)\n",
        "\n",
        "###################################################\n",
        "##### YOUR CODE ENDS HERE #########################\n",
        "###################################################"
      ]
    },
    {
      "cell_type": "markdown",
      "metadata": {
        "id": "vT4_Sl42bxmD"
      },
      "source": [
        "### **Task 5**\n",
        "Let's now train the linear model using the least-squares method. \n",
        "We need to add the bias term to the matrix X. "
      ]
    },
    {
      "cell_type": "code",
      "execution_count": 18,
      "metadata": {
        "colab": {
          "base_uri": "https://localhost:8080/"
        },
        "id": "A4JtLr6pdJV7",
        "outputId": "5ee56186-b2cc-45bb-8f6d-3f0e461d86db"
      },
      "outputs": [
        {
          "output_type": "stream",
          "name": "stdout",
          "text": [
            "w: (12,)\n"
          ]
        }
      ],
      "source": [
        "from numpy.linalg import inv\n",
        "# The task is to implement the function that adds a column of ones to the first column of X\n",
        "def expand_with_ones(X):\n",
        "    # TODO: add a column of ones to the front of the input matrix\n",
        "    # The code below is just for compilation. \n",
        "    # You need to replace it by your own code.\n",
        "    ###################################################\n",
        "    ##### YOUR CODE STARTS HERE #######################\n",
        "    ###################################################\n",
        "\n",
        "    N = len(X)\n",
        "    X_out = np.c_[np.ones(N), X]\n",
        "    return X_out\n",
        "\n",
        "    ###################################################\n",
        "    ##### YOUR CODE ENDS HERE #########################\n",
        "    ###################################################\n",
        "\n",
        "# Train the linear model using the least-squares method\n",
        "# The task is to implement the function that computes the parameters\n",
        "def least_squares_compute_parameters(X_input, y):\n",
        "    # add the bias column to the data\n",
        "    X = expand_with_ones(X_input)\n",
        "\n",
        "    # TODO: compute the parameters based on the expanded X and y using the least-squares method\n",
        "    # The code below is just for compilation. \n",
        "    # You need to replace it by your own code.\n",
        "    ###################################################\n",
        "    ##### YOUR CODE STARTS HERE #######################\n",
        "    ###################################################\n",
        "    \n",
        "    XT = np.transpose(X)\n",
        "  \n",
        "    w = np.dot((np.matmul(inv(np.matmul(XT, X)), XT)), y)\n",
        "\n",
        "    return w\n",
        "\n",
        "    ###################################################\n",
        "    ##### YOUR CODE ENDS HERE #########################\n",
        "    ###################################################\n",
        "\n",
        "# Apply the function to train the linear model\n",
        "w = least_squares_compute_parameters(X_train_std, y_train) \n",
        "print(\"w:\", w.shape)"
      ]
    },
    {
      "cell_type": "markdown",
      "metadata": {
        "id": "lasj_1PpeZib"
      },
      "source": [
        "After computing the parameters,\n",
        "we can build the linear model predictor.\n",
        "The predictor takes as input the computed parameters and the data, and predicts the labels for the input data."
      ]
    },
    {
      "cell_type": "code",
      "execution_count": 19,
      "metadata": {
        "id": "Lb-hNagxc3Wj"
      },
      "outputs": [],
      "source": [
        "# Implement the linear model predictor\n",
        "# Input: test data and parameters\n",
        "# Output: predicted values\n",
        "def linear_model_predictor(X, w):\n",
        "    # TODO: predict the labels for the input data\n",
        "    # The code below is just for compilation. \n",
        "    # You need to replace it by your own code.\n",
        "    ###################################################\n",
        "    ##### YOUR CODE STARTS HERE #######################\n",
        "    ###################################################\n",
        "\n",
        "    return np.dot(X,w)\n",
        "\n",
        "    ###################################################\n",
        "    ##### YOUR CODE ENDS HERE #########################\n",
        "    ###################################################\n"
      ]
    },
    {
      "cell_type": "markdown",
      "metadata": {
        "id": "cFOYpwbufz7J"
      },
      "source": [
        "Evaluate our linear regression model predictor on the test data. "
      ]
    },
    {
      "cell_type": "code",
      "execution_count": 20,
      "metadata": {
        "colab": {
          "base_uri": "https://localhost:8080/"
        },
        "id": "LuHHmn2RB55j",
        "outputId": "c620152c-bb61-4a85-a88e-aaae94a23f95"
      },
      "outputs": [
        {
          "output_type": "stream",
          "name": "stdout",
          "text": [
            "Mean squared error is 71046825.83555181\n"
          ]
        }
      ],
      "source": [
        "# use the function test_predictor to evaluate the linear model predictor\n",
        "mse_linear_model_predictor = test_predictor(expand_with_ones(X_test_std), y_test, lambda x: linear_model_predictor(x, w))\n",
        "print(\"Mean squared error is {}\".format(mse_linear_model_predictor))"
      ]
    },
    {
      "cell_type": "markdown",
      "metadata": {
        "id": "zqj4HKAihF7Q"
      },
      "source": [
        "## Learning Curves\n",
        "\n",
        "Let us check if the linear model is overfitting or underfitting. Since the dataset is somewhat large and there are only 11 features, the model shouldn't be overfitting. \n",
        "To check it, we use the learning curves: we plot how the performance of the model changes when it is trained with increasingly more data. "
      ]
    },
    {
      "cell_type": "markdown",
      "metadata": {
        "id": "MNf11kurCgKF"
      },
      "source": [
        "### **Task 6** \n",
        "\n",
        "Let's first implement a function that comprises what we have implemented above. \n",
        "The function takes as inputs the data and the split coefficient, and then\n",
        "1. standardizes the data,\n",
        "2. trains the linear model (compute the parameters), and\n",
        "3. reports the MSE of the linear model predictor on both the training and the test data. "
      ]
    },
    {
      "cell_type": "code",
      "execution_count": 26,
      "metadata": {
        "colab": {
          "base_uri": "https://localhost:8080/"
        },
        "id": "UcGRQBrEb106",
        "outputId": "6ec97646-133e-4842-b675-a20fa4757dba"
      },
      "outputs": [
        {
          "output_type": "stream",
          "name": "stdout",
          "text": [
            "Linear Model\n",
            "-----------------------\n",
            "\n",
            "MSE (Training) = 0.5646\n",
            "MSE (Testing)  = 0.5620\n"
          ]
        }
      ],
      "source": [
        "# Input: training data and test data\n",
        "# Output: mse of the linear model predictor on both the training and test data\n",
        "def train_and_test(X_train, y_train, X_test, y_test):\n",
        "    # TODO: implement the function \n",
        "    # The code below is just for compilation. \n",
        "    # You need to replace it by your own code.\n",
        "    ###################################################\n",
        "    ##### YOUR CODE STARTS HERE #######################\n",
        "    ###################################################\n",
        "    # Hints: use the functions you have implemented\n",
        "\n",
        "    # 1. standardizes the data\n",
        "    X_train_std, X_train_mean, X_train_std_div = standardize_data(X_train)\n",
        "\n",
        "    X_test_std = X_test\n",
        "    for i in range(0, len(X_test_std[0])):\n",
        "          for j in range(0, len(X_test_std)):\n",
        "            X_test_std[j][i] = (X_test[j][i] - X_train_mean[i]) / X_train_std_div[i]\n",
        "\n",
        "\n",
        "\n",
        "    # 2. trains the linear model (compute the parameters)\n",
        "    w = least_squares_compute_parameters(X_train_std, y_train)\n",
        "\n",
        "    # 3. reports the MSE of the linear model predictor on both the training and the test data\n",
        "    mse_train = test_predictor(expand_with_ones(X_train_std), y_train, lambda x: linear_model_predictor(x, w))\n",
        "    mse_test = test_predictor(expand_with_ones(X_test_std), y_test, lambda x: linear_model_predictor(x, w))\n",
        "    return mse_train, mse_test\n",
        "\n",
        "    ###################################################\n",
        "    ##### YOUR CODE ENDS HERE #########################\n",
        "    ###################################################\n",
        "\n",
        "mse_train, mse_test = train_and_test(X_train, y_train, X_test, y_test)\n",
        "print('Linear Model')\n",
        "print('-----------------------\\n')\n",
        "print('MSE (Training) = %.4f' % mse_train)\n",
        "print('MSE (Testing)  = %.4f' % mse_test)\n"
      ]
    },
    {
      "cell_type": "markdown",
      "metadata": {
        "id": "NTJw_BrzhRwi"
      },
      "source": [
        "### **Task 7**\n",
        "\n",
        "We are now ready to plot the learning curves. \n",
        "\n",
        "We train a list of models on the increasingly more training data ([20, 40, ..., 600] data records).\n",
        "For each of such model, we compute the MSEs of the model on both the training data and the test data, and store the MSEs in the lists `mse_train_v` and `mse_test`, respectively. \n",
        "The code provided below will then plot the learning curves.\n",
        "\n",
        "Your plot should show the two curves (roughly) meet at round 150 training data records."
      ]
    },
    {
      "cell_type": "code",
      "execution_count": 27,
      "metadata": {
        "colab": {
          "base_uri": "https://localhost:8080/",
          "height": 279
        },
        "id": "jDsdh4T3hcIU",
        "outputId": "1edf9b4b-a56c-407a-b624-be23e557f1aa"
      },
      "outputs": [
        {
          "output_type": "display_data",
          "data": {
            "text/plain": [
              "<Figure size 432x288 with 1 Axes>"
            ],
            "image/png": "[encoded data removed]"
          },
          "metadata": {
            "needs_background": "light"
          }
        }
      ],
      "source": [
        "mse_train_v = []\n",
        "mse_test_v = []\n",
        "\n",
        "TRAINING_SIZE_MAX = 601\n",
        "TRAINING_SIZE_MIN = 20\n",
        "\n",
        "# compute the MSE over data with sizes from TRAINING_SIZE_MIN to TRAINING_SIZE_MAX with increasing step 20\n",
        "for train_size in range(TRAINING_SIZE_MIN, TRAINING_SIZE_MAX, 20):\n",
        "    # TODO: \n",
        "    #   1. use the first train_size data records from the X_train and y_train as the training data\n",
        "    #   2. train and compute the MSE on both training and test data using the train_and_test function\n",
        "    #   3. add the computed MSE to the lists mse_train_v and mse_test_v\n",
        "    # The code below is just for compilation. \n",
        "    # You need to replace it by your own code.\n",
        "    ###################################################\n",
        "    ##### YOUR CODE STARTS HERE #######################\n",
        "    ###################################################\n",
        "\n",
        "    #   1. use the first train_size data records from the X_train and y_train as the training data\n",
        "    #   2. train and compute the MSE on both training and test data using the train_and_test function\n",
        "    mse_train, mse_test = train_and_test(X_train[:train_size], y_train[:train_size], X_test, y_test)\n",
        "\n",
        "\n",
        "    #   3. add the computed MSE to the lists mse_train_v and mse_test_v \n",
        "    mse_train_v.append(mse_train)\n",
        "    mse_test_v.append(mse_test)\n",
        "    ###################################################\n",
        "    ##### YOUR CODE ENDS HERE #########################\n",
        "    ###################################################\n",
        "    \n",
        "\n",
        "# The below code generates the learning curves plot\n",
        "plt.plot(np.arange(TRAINING_SIZE_MIN, TRAINING_SIZE_MAX, 20), mse_train_v, 'r--', label=\"Training Error\")\n",
        "plt.plot(np.arange(TRAINING_SIZE_MIN, TRAINING_SIZE_MAX, 20), mse_test_v, 'b-', label=\"Test Error\")\n",
        "plt.legend(loc=\"upper right\")\n",
        "plt.xlabel('Dataset Size')\n",
        "plt.ylabel('Mean Squared Error')\n",
        "plt.show()"
      ]
    },
    {
      "cell_type": "markdown",
      "metadata": {
        "id": "djpsaTu_kK3T"
      },
      "source": [
        "## Polynomial Basis Expansion and Regularisation\n",
        "\n",
        "In this part, we will improve the linear regression model by basis expansion and regularization: \n",
        "1. apply the degree 2 basis expansion to the data, \n",
        "2. build the Ridge and Lasso models and\n",
        "3. perform hyperparameter optimization using the validation data. \n",
        "\n",
        "For the hyperparameter optimization, you should set the last 20% of the training data for the purpose of validation and try lambda values in the range [10^-4, 10^-3, 10^-2, 10^-1, 1, 10, 100]. \n",
        "\n",
        "We will use the scikit-learn library. We have imported the necessary functions for you. You can import other scikit-learn functions if you think they are useful. The documentation is available here: http://scikit-learn.org/stable/modules/classes.html"
      ]
    },
    {
      "cell_type": "code",
      "execution_count": 29,
      "metadata": {
        "id": "9TM0nkNbkhfM"
      },
      "outputs": [],
      "source": [
        "# import the preprocessing libs for standarization and basis expansion\n",
        "from sklearn.preprocessing import StandardScaler, PolynomialFeatures \n",
        "\n",
        "# Ridge and Lasso linear model\n",
        "from sklearn.linear_model import Ridge, Lasso "
      ]
    },
    {
      "cell_type": "markdown",
      "metadata": {
        "id": "pCwBPuOXlRF7"
      },
      "source": [
        "### **Task 8**\n",
        "Let's implement the function for expanding the basis of the dataset. \n",
        "\n",
        "Hints: use `PolynomialFeatures`"
      ]
    },
    {
      "cell_type": "code",
      "execution_count": 30,
      "metadata": {
        "id": "50azFolql1qA"
      },
      "outputs": [],
      "source": [
        "def expand_basis(X, degree):\n",
        "    # TODO: expand the basis of X for the input degree\n",
        "    # The code below is just for compilation. \n",
        "    # You need to replace it by your own code.\n",
        "    ###################################################\n",
        "    ##### YOUR CODE STARTS HERE #######################\n",
        "    ###################################################\n",
        "    # Hints: use the function PolynomialFeatures\n",
        "    poly = PolynomialFeatures(degree)\n",
        "    return poly.fit_transform(X)\n",
        "\n",
        "    ###################################################\n",
        "    ##### YOUR CODE ENDS HERE #########################\n",
        "    ###################################################"
      ]
    },
    {
      "cell_type": "markdown",
      "metadata": {
        "id": "6jwkPevimQri"
      },
      "source": [
        "### **Task 9**\n",
        "We need to prepare the data.\n",
        "We first expand and standardize the data,\n",
        "and then split the training data to training data and validation data.\n",
        "We use the last 20% of the training data as the validation data.\n",
        "\n",
        "Hints: use `StandardScaler` and `std_scaler` to standardize the data"
      ]
    },
    {
      "cell_type": "code",
      "execution_count": 31,
      "metadata": {
        "id": "dQCq4G9YmW7w",
        "outputId": "fdee96b9-3903-4a30-88ed-f7ec5adc0dd9",
        "colab": {
          "base_uri": "https://localhost:8080/"
        }
      },
      "outputs": [
        {
          "output_type": "stream",
          "name": "stdout",
          "text": [
            "Shape of X_train_n: (3134, 78)\n",
            "Shape of y_train_n: (3134,)\n",
            "Shape of X_train_v: (784, 78)\n",
            "Shape of y_train_v: (784,)\n",
            "Shape of X_test: (980, 78)\n",
            "Shape of y_test: (980,)\n"
          ]
        }
      ],
      "source": [
        "from sklearn.model_selection import train_test_split\n",
        "def prepare_data(X, y, degree):\n",
        "    # TODO: the training, test and validation data using the expanded dataset.\n",
        "    # The code below is just for compilation. \n",
        "    # You need to replace it by your own code.\n",
        "    ###################################################\n",
        "    ##### YOUR CODE STARTS HERE #######################\n",
        "    ###################################################\n",
        "    # Hints: follow the steps     \n",
        "    # 1. split the data (X, y) into training data (X_train, y_train) and test data (X_test, y_test)\n",
        "    # 2. standardize the training data and do the same transformation to the test data\n",
        "    # 3. expand the basis of the training data and test data\n",
        "    # 4. split the expanded training data into training data (X_train_n, y_train_n) and validation data (X_train_v, y_train_v)\n",
        "    \n",
        "    # 1.\n",
        "    X_train, X_test, y_train, y_test = train_test_split(X, y , train_size=0.8)\n",
        "\n",
        "    # 2.\n",
        "    scaler = StandardScaler()\n",
        "    scaler.fit(X_train)\n",
        "    X_train = scaler.transform(X_train)\n",
        "    X_test = scaler.transform(X_test)\n",
        "\n",
        "    # 3. \n",
        "    X_train = expand_basis(X_train, degree)\n",
        "    X_test = expand_basis(X_test, degree)\n",
        "\n",
        "    # 4.\n",
        "    # further split the training data to training and validation data\n",
        "    \n",
        "    X_train_n, X_train_v, y_train_n, y_train_v = train_test_split(X_train, y_train , train_size=0.8)\n",
        "\n",
        "\n",
        "    return X_train, y_train, X_train_n, y_train_n, X_train_v, y_train_v, X_test, y_test\n",
        "    ###################################################\n",
        "    ##### YOUR CODE ENDS HERE #########################\n",
        "    ###################################################\n",
        "\n",
        "X_train, y_train, X_train_n, y_train_n, X_train_v, y_train_v, X_test, y_test = prepare_data(X, y, 2) # here we expand the dataset with degree 2\n",
        "\n",
        "# check the size of the splitted dataset\n",
        "print(\"Shape of X_train_n:\", X_train_n.shape) # expected output (3134, 78)\n",
        "print(\"Shape of y_train_n:\", y_train_n.shape) # expected output (3134,)\n",
        "print(\"Shape of X_train_v:\", X_train_v.shape) # expected output (784, 78)\n",
        "print(\"Shape of y_train_v:\", y_train_v.shape) # expected output (784,)\n",
        "print(\"Shape of X_test:\", X_test.shape) # expected output (980, 78)\n",
        "print(\"Shape of y_test:\", y_test.shape) # expected output (980,)"
      ]
    },
    {
      "cell_type": "markdown",
      "metadata": {
        "id": "i3BxxtM3nghU"
      },
      "source": [
        "### **Task 10**\n",
        "We have prepared the training data and the validation data. \n",
        "We can now use the validation data to select the optimal hyperparameters for the Ridge and Lasso models. \n",
        "We use the Ridge and Lasso models from scikit-learn: https://scikit-learn.org/stable/modules/generated/sklearn.linear_model.Ridge.html\n",
        "\n",
        "We train Ridge or Lasso models with different lambda values and check their performance on the validation data, and select the lambda values that yield the best performance. "
      ]
    },
    {
      "cell_type": "code",
      "execution_count": 32,
      "metadata": {
        "colab": {
          "base_uri": "https://localhost:8080/",
          "height": 613
        },
        "id": "SvXcAGW1oHq1",
        "outputId": "8345d282-2be8-441a-bfb3-58b642b2da5b"
      },
      "outputs": [
        {
          "output_type": "stream",
          "name": "stderr",
          "text": [
            "/usr/local/lib/python3.8/dist-packages/sklearn/linear_model/_coordinate_descent.py:647: ConvergenceWarning: Objective did not converge. You might want to increase the number of iterations, check the scale of the features or consider increasing regularisation. Duality gap: 3.423e+01, tolerance: 2.408e-01\n",
            "  model = cd_fast.enet_coordinate_descent(\n"
          ]
        },
        {
          "output_type": "stream",
          "name": "stdout",
          "text": [
            "Ridge lambda: 10\n",
            "Lasso lambda: 0.0001\n"
          ]
        },
        {
          "output_type": "display_data",
          "data": {
            "text/plain": [
              "<Figure size 432x288 with 1 Axes>"
            ],
            "image/png": "[encoded data removed]"
          },
          "metadata": {
            "needs_background": "light"
          }
        },
        {
          "output_type": "display_data",
          "data": {
            "text/plain": [
              "<Figure size 432x288 with 1 Axes>"
            ],
            "image/png": "[encoded data removed]"
          },
          "metadata": {
            "needs_background": "light"
          }
        }
      ],
      "source": [
        "from sklearn.metrics import mean_squared_error\n",
        "# The function takes the training and validation data as inputs, and \n",
        "# returns the lambda value that results the minimal mse\n",
        "# We use is_ridge to indicate which the model is considered.\n",
        "# is_ridge = True indicates Ridge while is_ridge = False indicates Lasso\n",
        "def choose_hyper_param(X_train_n, y_train_n, X_train_v, y_train_v, is_ridge: bool):\n",
        "    mse_arr = []\n",
        "    lam_arr = []\n",
        "\n",
        "    # Try lambda values from 10^-4 to 10^2. \n",
        "    # Record the mse and the lambda values in mse_arr and lam_arr\n",
        "    # The code below is just for compilation. \n",
        "    # You need to replace it by your own code.\n",
        "    ###################################################\n",
        "    ##### YOUR CODE STARTS HERE #######################\n",
        "    ###################################################\n",
        "    for pow_lam in range(-4, 3):\n",
        "        lam = 10 ** pow_lam\n",
        "\n",
        "        if is_ridge == True:\n",
        "          model_ridge = Ridge(alpha = lam)\n",
        "          model_ridge.fit(X_train_n, y_train_n)\n",
        "          predict_ridge = model_ridge.predict(X_train_v)\n",
        "          mse = mean_squared_error(y_train_v, predict_ridge)\n",
        "        else:\n",
        "          model_lasso = Lasso(alpha = lam)\n",
        "          model_lasso.fit(X_train_n, y_train_n)\n",
        "          predict_lasso= model_lasso.predict(X_train_v)\n",
        "          mse = mean_squared_error(y_train_v, predict_lasso)\n",
        "          \n",
        "        mse_arr.append(mse) \n",
        "        lam_arr.append(lam) \n",
        "    ###################################################\n",
        "    ##### YOUR CODE ENDS HERE #########################\n",
        "    ###################################################\n",
        "\n",
        "\n",
        "    # get the index of the lambda value that has the minimal use\n",
        "    lambda_idx_min = np.argmin(np.array(mse_arr))\n",
        "\n",
        "    # plot of the lambda values and their mse\n",
        "    plt.figure()\n",
        "    plt.semilogx(lam_arr, mse_arr)\n",
        "\n",
        "    # return the optimal lambda value\n",
        "    return lam_arr[lambda_idx_min]\n",
        "\n",
        "# call the function to choose the lambda for Ridge and Lasso\n",
        "lam_ridge = choose_hyper_param(X_train_n, y_train_n, X_train_v, y_train_v, True)\n",
        "lam_lasso = choose_hyper_param(X_train_n, y_train_n, X_train_v, y_train_v, False)\n",
        "\n",
        "print(\"Ridge lambda:\", lam_ridge)\n",
        "print(\"Lasso lambda:\", lam_lasso)"
      ]
    },
    {
      "cell_type": "markdown",
      "metadata": {
        "id": "FAuX0uU5k9qD"
      },
      "source": [
        "### **Task 11**:\n",
        "Once we get the optimal lambdas for Ridge and Lasso, we train these models using these lambdas on the full training data, and then report their performance."
      ]
    },
    {
      "cell_type": "code",
      "execution_count": 33,
      "metadata": {
        "colab": {
          "base_uri": "https://localhost:8080/"
        },
        "id": "VmwHESkg77zK",
        "outputId": "97412852-48e3-4b51-e3c3-228052656697"
      },
      "outputs": [
        {
          "output_type": "stream",
          "name": "stdout",
          "text": [
            "For Ridge Regression with using degree 2 polynomial expansion and lambda = 10.0000\n",
            "--------------------------------------------------------------------------------\n",
            "\n",
            "MSE (Training) = 0.4841\n",
            "MSE (Testing)  = 0.5682\n",
            "\n",
            "\n",
            "For Lasso with using degree 2 polynomial expansion and lambda = 0.0001\n",
            "---------------------------------------------------------------------\n",
            "\n",
            "MSE (Training) = 0.4839\n",
            "MSE (Testing)  = 0.5679\n"
          ]
        },
        {
          "output_type": "stream",
          "name": "stderr",
          "text": [
            "/usr/local/lib/python3.8/dist-packages/sklearn/linear_model/_coordinate_descent.py:647: ConvergenceWarning: Objective did not converge. You might want to increase the number of iterations, check the scale of the features or consider increasing regularisation. Duality gap: 2.293e+02, tolerance: 3.026e-01\n",
            "  model = cd_fast.enet_coordinate_descent(\n"
          ]
        }
      ],
      "source": [
        "# TODO: train the Ridge and Lasso models using the optimal parameters, and\n",
        "#       report their MSE\n",
        "###################################################\n",
        "##### YOUR CODE STARTS HERE #######################\n",
        "###################################################\n",
        "# Hints: train these models on the full training data\n",
        "\n",
        "# train ridge\n",
        "model_ridge = Ridge(alpha = lam_ridge)\n",
        "model_ridge.fit(X_train, y_train)\n",
        "\n",
        "# predict ridge\n",
        "predict_ridge_train = model_ridge.predict(X_train)\n",
        "predict_ridge_test = model_ridge.predict(X_test)\n",
        "\n",
        "# mse ridge\n",
        "mse_ridge_train = mean_squared_error(y_train, predict_ridge_train)\n",
        "mse_ridge_test = mean_squared_error(y_test, predict_ridge_test)\n",
        "\n",
        "\n",
        "# train lasso\n",
        "model_lasso = Lasso(alpha = lam_lasso)\n",
        "model_lasso.fit(X_train, y_train)\n",
        "\n",
        "# predict lasso\n",
        "predict_lasso_train = model_lasso.predict(X_train)\n",
        "predict_lasso_test = model_lasso.predict(X_test)\n",
        "\n",
        "# mse lasso\n",
        "mse_lasso_train = mean_squared_error(y_train, predict_lasso_train)\n",
        "mse_lasso_test = mean_squared_error(y_test, predict_lasso_test)\n",
        "\n",
        "###################################################\n",
        "##### YOUR CODE ENDS HERE #########################\n",
        "###################################################\n",
        "\n",
        "# Report the result\n",
        "print('For Ridge Regression with using degree %d polynomial expansion and lambda = %.4f' % (2, lam_ridge))\n",
        "print('--------------------------------------------------------------------------------\\n')\n",
        "print('MSE (Training) = %.4f' % mse_ridge_train)\n",
        "print('MSE (Testing)  = %.4f' % mse_ridge_test)\n",
        "\n",
        "print('\\n\\nFor Lasso with using degree %d polynomial expansion and lambda = %.4f' % (2, lam_lasso))\n",
        "print('---------------------------------------------------------------------\\n')\n",
        "print('MSE (Training) = %.4f' % mse_lasso_train)\n",
        "print('MSE (Testing)  = %.4f' % mse_lasso_test)"
      ]
    },
    {
      "cell_type": "markdown",
      "metadata": {
        "id": "Os9tKKLd8gMU"
      },
      "source": [
        "## Optional: Try Larger Degrees using K-fold Cross Validation\n",
        "\n"
      ]
    },
    {
      "cell_type": "markdown",
      "metadata": {
        "id": "sfqRAlv1PBXi"
      },
      "source": [
        "### **Task 12**\n",
        "This is an optional task, which worths 5 bonus points.\n",
        "\n",
        "The task is to try basis expansions with higher degrees (up to degree 4) and find the degree that results the best performance. \n",
        "Instead of always using the same validation data, we use k-fold cross-validation to find the optimal hyperparameters. \n",
        "\n",
        "Your task is to report the optimal hyperparameters (the basis expansion degree and the lambdas) and the MSEs of the Ridge and Lasso when using these optimal hyperparameters. \n",
        "\n",
        "Hints: Use `KFold` to do this automatically. "
      ]
    },
    {
      "cell_type": "code",
      "execution_count": null,
      "metadata": {
        "id": "kpwY7UtQ8l-0",
        "colab": {
          "base_uri": "https://localhost:8080/"
        },
        "outputId": "4ac0e853-2936-4cd6-e47b-ae40174462f6"
      },
      "outputs": [
        {
          "output_type": "stream",
          "name": "stderr",
          "text": [
            "/usr/local/lib/python3.7/dist-packages/sklearn/linear_model/_coordinate_descent.py:648: ConvergenceWarning: Objective did not converge. You might want to increase the number of iterations, check the scale of the features or consider increasing regularisation. Duality gap: 9.275e+01, tolerance: 3.083e-01\n",
            "  coef_, l1_reg, l2_reg, X, y, max_iter, tol, rng, random, positive\n",
            "/usr/local/lib/python3.7/dist-packages/sklearn/linear_model/_coordinate_descent.py:648: ConvergenceWarning: Objective did not converge. You might want to increase the number of iterations, check the scale of the features or consider increasing regularisation. Duality gap: 7.964e+02, tolerance: 3.083e-01\n",
            "  coef_, l1_reg, l2_reg, X, y, max_iter, tol, rng, random, positive\n",
            "/usr/local/lib/python3.7/dist-packages/sklearn/linear_model/_coordinate_descent.py:648: ConvergenceWarning: Objective did not converge. You might want to increase the number of iterations, check the scale of the features or consider increasing regularisation. Duality gap: 8.748e+02, tolerance: 3.117e-01\n",
            "  coef_, l1_reg, l2_reg, X, y, max_iter, tol, rng, random, positive\n",
            "/usr/local/lib/python3.7/dist-packages/sklearn/linear_model/_coordinate_descent.py:648: ConvergenceWarning: Objective did not converge. You might want to increase the number of iterations, check the scale of the features or consider increasing regularisation. Duality gap: 8.361e+02, tolerance: 3.025e-01\n",
            "  coef_, l1_reg, l2_reg, X, y, max_iter, tol, rng, random, positive\n",
            "/usr/local/lib/python3.7/dist-packages/sklearn/linear_model/_coordinate_descent.py:648: ConvergenceWarning: Objective did not converge. You might want to increase the number of iterations, check the scale of the features or consider increasing regularisation. Duality gap: 8.705e+02, tolerance: 3.095e-01\n",
            "  coef_, l1_reg, l2_reg, X, y, max_iter, tol, rng, random, positive\n",
            "/usr/local/lib/python3.7/dist-packages/sklearn/linear_model/_coordinate_descent.py:648: ConvergenceWarning: Objective did not converge. You might want to increase the number of iterations, check the scale of the features or consider increasing regularisation. Duality gap: 8.578e+02, tolerance: 3.044e-01\n",
            "  coef_, l1_reg, l2_reg, X, y, max_iter, tol, rng, random, positive\n",
            "/usr/local/lib/python3.7/dist-packages/sklearn/linear_model/_coordinate_descent.py:648: ConvergenceWarning: Objective did not converge. You might want to increase the number of iterations, check the scale of the features or consider increasing regularisation. Duality gap: 5.022e+02, tolerance: 3.083e-01\n",
            "  coef_, l1_reg, l2_reg, X, y, max_iter, tol, rng, random, positive\n",
            "/usr/local/lib/python3.7/dist-packages/sklearn/linear_model/_coordinate_descent.py:648: ConvergenceWarning: Objective did not converge. You might want to increase the number of iterations, check the scale of the features or consider increasing regularisation. Duality gap: 7.909e+02, tolerance: 3.117e-01\n",
            "  coef_, l1_reg, l2_reg, X, y, max_iter, tol, rng, random, positive\n",
            "/usr/local/lib/python3.7/dist-packages/sklearn/linear_model/_coordinate_descent.py:648: ConvergenceWarning: Objective did not converge. You might want to increase the number of iterations, check the scale of the features or consider increasing regularisation. Duality gap: 7.203e+02, tolerance: 3.025e-01\n",
            "  coef_, l1_reg, l2_reg, X, y, max_iter, tol, rng, random, positive\n",
            "/usr/local/lib/python3.7/dist-packages/sklearn/linear_model/_coordinate_descent.py:648: ConvergenceWarning: Objective did not converge. You might want to increase the number of iterations, check the scale of the features or consider increasing regularisation. Duality gap: 8.102e+02, tolerance: 3.095e-01\n",
            "  coef_, l1_reg, l2_reg, X, y, max_iter, tol, rng, random, positive\n",
            "/usr/local/lib/python3.7/dist-packages/sklearn/linear_model/_coordinate_descent.py:648: ConvergenceWarning: Objective did not converge. You might want to increase the number of iterations, check the scale of the features or consider increasing regularisation. Duality gap: 7.941e+02, tolerance: 3.044e-01\n",
            "  coef_, l1_reg, l2_reg, X, y, max_iter, tol, rng, random, positive\n",
            "/usr/local/lib/python3.7/dist-packages/sklearn/linear_model/_coordinate_descent.py:648: ConvergenceWarning: Objective did not converge. You might want to increase the number of iterations, check the scale of the features or consider increasing regularisation. Duality gap: 1.200e+00, tolerance: 3.117e-01\n",
            "  coef_, l1_reg, l2_reg, X, y, max_iter, tol, rng, random, positive\n",
            "/usr/local/lib/python3.7/dist-packages/sklearn/linear_model/_coordinate_descent.py:648: ConvergenceWarning: Objective did not converge. You might want to increase the number of iterations, check the scale of the features or consider increasing regularisation. Duality gap: 3.278e+01, tolerance: 3.025e-01\n",
            "  coef_, l1_reg, l2_reg, X, y, max_iter, tol, rng, random, positive\n",
            "/usr/local/lib/python3.7/dist-packages/sklearn/linear_model/_coordinate_descent.py:648: ConvergenceWarning: Objective did not converge. You might want to increase the number of iterations, check the scale of the features or consider increasing regularisation. Duality gap: 1.572e+01, tolerance: 3.095e-01\n",
            "  coef_, l1_reg, l2_reg, X, y, max_iter, tol, rng, random, positive\n",
            "/usr/local/lib/python3.7/dist-packages/sklearn/linear_model/_coordinate_descent.py:648: ConvergenceWarning: Objective did not converge. You might want to increase the number of iterations, check the scale of the features or consider increasing regularisation. Duality gap: 4.160e+00, tolerance: 3.044e-01\n",
            "  coef_, l1_reg, l2_reg, X, y, max_iter, tol, rng, random, positive\n",
            "/usr/local/lib/python3.7/dist-packages/sklearn/linear_model/_coordinate_descent.py:648: ConvergenceWarning: Objective did not converge. You might want to increase the number of iterations, check the scale of the features or consider increasing regularisation. Duality gap: 5.723e+02, tolerance: 3.083e-01\n",
            "  coef_, l1_reg, l2_reg, X, y, max_iter, tol, rng, random, positive\n",
            "/usr/local/lib/python3.7/dist-packages/sklearn/linear_model/_coordinate_descent.py:648: ConvergenceWarning: Objective did not converge. You might want to increase the number of iterations, check the scale of the features or consider increasing regularisation. Duality gap: 6.360e+02, tolerance: 3.117e-01\n",
            "  coef_, l1_reg, l2_reg, X, y, max_iter, tol, rng, random, positive\n",
            "/usr/local/lib/python3.7/dist-packages/sklearn/linear_model/_coordinate_descent.py:648: ConvergenceWarning: Objective did not converge. You might want to increase the number of iterations, check the scale of the features or consider increasing regularisation. Duality gap: 5.940e+02, tolerance: 3.025e-01\n",
            "  coef_, l1_reg, l2_reg, X, y, max_iter, tol, rng, random, positive\n",
            "/usr/local/lib/python3.7/dist-packages/sklearn/linear_model/_coordinate_descent.py:648: ConvergenceWarning: Objective did not converge. You might want to increase the number of iterations, check the scale of the features or consider increasing regularisation. Duality gap: 6.242e+02, tolerance: 3.095e-01\n",
            "  coef_, l1_reg, l2_reg, X, y, max_iter, tol, rng, random, positive\n",
            "/usr/local/lib/python3.7/dist-packages/sklearn/linear_model/_coordinate_descent.py:648: ConvergenceWarning: Objective did not converge. You might want to increase the number of iterations, check the scale of the features or consider increasing regularisation. Duality gap: 6.152e+02, tolerance: 3.044e-01\n",
            "  coef_, l1_reg, l2_reg, X, y, max_iter, tol, rng, random, positive\n",
            "/usr/local/lib/python3.7/dist-packages/sklearn/linear_model/_coordinate_descent.py:648: ConvergenceWarning: Objective did not converge. You might want to increase the number of iterations, check the scale of the features or consider increasing regularisation. Duality gap: 6.860e+02, tolerance: 3.083e-01\n",
            "  coef_, l1_reg, l2_reg, X, y, max_iter, tol, rng, random, positive\n",
            "/usr/local/lib/python3.7/dist-packages/sklearn/linear_model/_coordinate_descent.py:648: ConvergenceWarning: Objective did not converge. You might want to increase the number of iterations, check the scale of the features or consider increasing regularisation. Duality gap: 7.560e+02, tolerance: 3.117e-01\n",
            "  coef_, l1_reg, l2_reg, X, y, max_iter, tol, rng, random, positive\n",
            "/usr/local/lib/python3.7/dist-packages/sklearn/linear_model/_coordinate_descent.py:648: ConvergenceWarning: Objective did not converge. You might want to increase the number of iterations, check the scale of the features or consider increasing regularisation. Duality gap: 7.095e+02, tolerance: 3.025e-01\n",
            "  coef_, l1_reg, l2_reg, X, y, max_iter, tol, rng, random, positive\n",
            "/usr/local/lib/python3.7/dist-packages/sklearn/linear_model/_coordinate_descent.py:648: ConvergenceWarning: Objective did not converge. You might want to increase the number of iterations, check the scale of the features or consider increasing regularisation. Duality gap: 7.349e+02, tolerance: 3.095e-01\n",
            "  coef_, l1_reg, l2_reg, X, y, max_iter, tol, rng, random, positive\n",
            "/usr/local/lib/python3.7/dist-packages/sklearn/linear_model/_coordinate_descent.py:648: ConvergenceWarning: Objective did not converge. You might want to increase the number of iterations, check the scale of the features or consider increasing regularisation. Duality gap: 7.398e+02, tolerance: 3.044e-01\n",
            "  coef_, l1_reg, l2_reg, X, y, max_iter, tol, rng, random, positive\n",
            "/usr/local/lib/python3.7/dist-packages/sklearn/linear_model/_coordinate_descent.py:648: ConvergenceWarning: Objective did not converge. You might want to increase the number of iterations, check the scale of the features or consider increasing regularisation. Duality gap: 8.728e+02, tolerance: 3.083e-01\n",
            "  coef_, l1_reg, l2_reg, X, y, max_iter, tol, rng, random, positive\n",
            "/usr/local/lib/python3.7/dist-packages/sklearn/linear_model/_coordinate_descent.py:648: ConvergenceWarning: Objective did not converge. You might want to increase the number of iterations, check the scale of the features or consider increasing regularisation. Duality gap: 9.723e+02, tolerance: 3.117e-01\n",
            "  coef_, l1_reg, l2_reg, X, y, max_iter, tol, rng, random, positive\n",
            "/usr/local/lib/python3.7/dist-packages/sklearn/linear_model/_coordinate_descent.py:648: ConvergenceWarning: Objective did not converge. You might want to increase the number of iterations, check the scale of the features or consider increasing regularisation. Duality gap: 9.410e+02, tolerance: 3.025e-01\n",
            "  coef_, l1_reg, l2_reg, X, y, max_iter, tol, rng, random, positive\n",
            "/usr/local/lib/python3.7/dist-packages/sklearn/linear_model/_coordinate_descent.py:648: ConvergenceWarning: Objective did not converge. You might want to increase the number of iterations, check the scale of the features or consider increasing regularisation. Duality gap: 9.629e+02, tolerance: 3.095e-01\n",
            "  coef_, l1_reg, l2_reg, X, y, max_iter, tol, rng, random, positive\n",
            "/usr/local/lib/python3.7/dist-packages/sklearn/linear_model/_coordinate_descent.py:648: ConvergenceWarning: Objective did not converge. You might want to increase the number of iterations, check the scale of the features or consider increasing regularisation. Duality gap: 9.585e+02, tolerance: 3.044e-01\n",
            "  coef_, l1_reg, l2_reg, X, y, max_iter, tol, rng, random, positive\n",
            "/usr/local/lib/python3.7/dist-packages/sklearn/linear_model/_coordinate_descent.py:648: ConvergenceWarning: Objective did not converge. You might want to increase the number of iterations, check the scale of the features or consider increasing regularisation. Duality gap: 9.280e-01, tolerance: 3.083e-01\n",
            "  coef_, l1_reg, l2_reg, X, y, max_iter, tol, rng, random, positive\n",
            "/usr/local/lib/python3.7/dist-packages/sklearn/linear_model/_coordinate_descent.py:648: ConvergenceWarning: Objective did not converge. You might want to increase the number of iterations, check the scale of the features or consider increasing regularisation. Duality gap: 4.128e+02, tolerance: 3.117e-01\n",
            "  coef_, l1_reg, l2_reg, X, y, max_iter, tol, rng, random, positive\n",
            "/usr/local/lib/python3.7/dist-packages/sklearn/linear_model/_coordinate_descent.py:648: ConvergenceWarning: Objective did not converge. You might want to increase the number of iterations, check the scale of the features or consider increasing regularisation. Duality gap: 3.853e+02, tolerance: 3.025e-01\n",
            "  coef_, l1_reg, l2_reg, X, y, max_iter, tol, rng, random, positive\n",
            "/usr/local/lib/python3.7/dist-packages/sklearn/linear_model/_coordinate_descent.py:648: ConvergenceWarning: Objective did not converge. You might want to increase the number of iterations, check the scale of the features or consider increasing regularisation. Duality gap: 3.968e+02, tolerance: 3.095e-01\n",
            "  coef_, l1_reg, l2_reg, X, y, max_iter, tol, rng, random, positive\n",
            "/usr/local/lib/python3.7/dist-packages/sklearn/linear_model/_coordinate_descent.py:648: ConvergenceWarning: Objective did not converge. You might want to increase the number of iterations, check the scale of the features or consider increasing regularisation. Duality gap: 4.506e+02, tolerance: 3.044e-01\n",
            "  coef_, l1_reg, l2_reg, X, y, max_iter, tol, rng, random, positive\n"
          ]
        }
      ],
      "source": [
        "# KFold\n",
        "from sklearn.model_selection import KFold\n",
        "\n",
        "###################################################\n",
        "##### YOUR CODE STARTS HERE #######################\n",
        "###################################################\n",
        "\n",
        "kf = KFold(n_splits=5)\n",
        "kf.get_n_splits(X)\n",
        "\n",
        "scaler = StandardScaler()\n",
        "\n",
        "degree_list = [2, 3, 4]\n",
        "\n",
        "list_lam_ridge = []\n",
        "list_lam_lasso = []\n",
        "avg_ridge = []\n",
        "avg_lasso = []\n",
        "list_mse_ridge = []\n",
        "list_mse_lasso = []\n",
        "list_degree = []\n",
        "list_lam = []\n",
        "\n",
        "for d in degree_list:\n",
        "  for pow_lam in range(-4, 3):\n",
        "    lam = 10 ** pow_lam\n",
        "    list_mse_ridge = []\n",
        "    list_mse_lasso = []\n",
        "    for train_index, test_index in kf.split(X):\n",
        "\n",
        "      X_train, X_test = X[train_index], X[test_index]\n",
        "      y_train, y_test = y[train_index], y[test_index]\n",
        "\n",
        "      # 2. scale data\n",
        "      X_train = scaler.fit_transform(X_train)\n",
        "      X_test = scaler.transform (X_test)\n",
        "\n",
        "      # 3. expand\n",
        "      X_train = expand_basis(X_train, d)\n",
        "      X_test = expand_basis(X_test, d)\n",
        "\n",
        "      \n",
        "      model_ridge = Ridge(alpha = lam)\n",
        "      model_ridge.fit(X_train, y_train)\n",
        "      predict_ridge = model_ridge.predict(X_test)\n",
        "      mse_ridge = mean_squared_error(y_test, predict_ridge)\n",
        "    \n",
        "      model_lasso = Lasso(alpha = lam)\n",
        "      model_lasso.fit(X_train, y_train)\n",
        "      predict_lasso= model_lasso.predict(X_test)\n",
        "      mse_lasso = mean_squared_error(y_test, predict_lasso)\n",
        "          \n",
        "      list_mse_ridge.append(mse_ridge) \n",
        "      list_mse_lasso.append(mse_lasso) \n",
        "    \n",
        "    avg_ridge.append(np.mean(list_mse_ridge))\n",
        "    avg_lasso.append(np.mean(list_mse_lasso))\n",
        "    list_degree.append(d)\n",
        "    list_lam.append(lam)\n",
        "\n",
        "\n",
        "min_ridge = min(avg_ridge)\n",
        "min_ridge_index = avg_ridge.index(min_ridge)\n",
        "\n",
        "min_lasso = min(avg_lasso)\n",
        "min_lasso_index =avg_lasso.index(min_lasso)\n",
        "\n",
        "min_ridge_degree = list_degree[min_ridge_index]\n",
        "min_ridge_lam = list_lam[min_ridge_index]\n",
        "\n",
        "min_lasso_degree = list_degree[min_lasso_index]\n",
        "min_lasso_lam = list_lam[min_lasso_index]\n",
        "\n",
        "###################################################\n",
        "##### YOUR CODE ENDS HERE #########################\n",
        "###################################################"
      ]
    },
    {
      "cell_type": "code",
      "source": [
        "print('For Ridge Regression the optimal degree for polynomial expansion is: %d and optimal lambda is: %.4f' % (min_ridge_degree, min_ridge_lam))\n",
        "print('With MSE (Testing)  = %.4f' % min_ridge)\n",
        "print('--------------------------------------------------------------------------------\\n')\n",
        "print('For Lasso Regression the optimal degree for polynomial expansion is: %d and optimal lambda is: %.4f' % (min_lasso_degree, min_lasso_lam))\n",
        "print('--------------------------------------------------------------------------------\\n')\n",
        "print('With MSE (Testing)  = %.4f' % min_lasso)"
      ],
      "metadata": {
        "colab": {
          "base_uri": "https://localhost:8080/"
        },
        "id": "qT2IUdlWrLeH",
        "outputId": "3f8d9bd2-f9fa-424d-992b-c1dbebd0ec19"
      },
      "execution_count": null,
      "outputs": [
        {
          "output_type": "stream",
          "name": "stdout",
          "text": [
            "For Ridge Regression the optimal degree for polynomial expansion is: 2 and optimal lambda is: 100.0000\n",
            "With MSE (Testing)  = 2261.5154\n",
            "--------------------------------------------------------------------------------\n",
            "\n",
            "For Lasso Regression the optimal degree for polynomial expansion is: 3 and optimal lambda is: 1.0000\n",
            "--------------------------------------------------------------------------------\n",
            "\n",
            "With MSE (Testing)  = 0.7767\n"
          ]
        }
      ]
    },
    {
      "cell_type": "code",
      "source": [
        "# prepare data for Ridge\n",
        "X_train, X_test, y_train, y_test = train_test_split(X, y , train_size=0.8)\n",
        "\n",
        "scaler = StandardScaler()\n",
        "X_train = scaler.fit_transform(X_train)\n",
        "X_test = scaler.transform (X_test)\n",
        " \n",
        "X_train = expand_basis(X_train, min_ridge_degree)\n",
        "X_test = expand_basis(X_test, min_ridge_degree)\n",
        "    \n",
        "    \n",
        "# train ridge\n",
        "model_ridge = Ridge(alpha = min_ridge_lam)\n",
        "model_ridge.fit(X_train, y_train)\n",
        "\n",
        "# predict ridge\n",
        "predict_ridge_train = model_ridge.predict(X_train)\n",
        "predict_ridge_test = model_ridge.predict(X_test)\n",
        "\n",
        "# mse ridge\n",
        "mse_ridge_train = mean_squared_error(y_train, predict_ridge_train)\n",
        "mse_ridge_test = mean_squared_error(y_test, predict_ridge_test)\n",
        "\n",
        "\n",
        "# prepare data for Lasso\n",
        "X_train, X_test, y_train, y_test = train_test_split(X, y , train_size=0.8)\n",
        "\n",
        "scaler = StandardScaler()\n",
        "X_train = scaler.fit_transform(X_train)\n",
        "X_test = scaler.transform (X_test)\n",
        " \n",
        "X_train = expand_basis(X_train, min_lasso_degree)\n",
        "X_test = expand_basis(X_test, min_lasso_degree)\n",
        "\n",
        "# train lasso\n",
        "model_lasso = Lasso(alpha = min_lasso_lam)\n",
        "model_lasso.fit(X_train, y_train)\n",
        "\n",
        "# predict lasso\n",
        "predict_lasso_train = model_lasso.predict(X_train)\n",
        "predict_lasso_test = model_lasso.predict(X_test)\n",
        "\n",
        "# mse lasso\n",
        "mse_lasso_train = mean_squared_error(y_train, predict_lasso_train)\n",
        "mse_lasso_test = mean_squared_error(y_test, predict_lasso_test)\n",
        "\n",
        "###################################################\n",
        "##### YOUR CODE ENDS HERE #########################\n",
        "###################################################\n",
        "\n",
        "# Report the result\n",
        "print('using the results from the hyperparameter optimization from before on a 80:20 train test split')\n",
        "print('For Ridge Regression with using degree %d polynomial expansion and lambda = %.4f' % (2, min_ridge_lam))\n",
        "print('--------------------------------------------------------------------------------\\n')\n",
        "print('MSE (Training) = %.4f' % mse_ridge_train)\n",
        "print('MSE (Testing)  = %.4f' % mse_ridge_test)\n",
        "\n",
        "print('\\n\\nFor Lasso with using degree %d polynomial expansion and lambda = %.4f' % (2, min_lasso_lam))\n",
        "print('---------------------------------------------------------------------\\n')\n",
        "print('MSE (Training) = %.4f' % mse_lasso_train)\n",
        "print('MSE (Testing)  = %.4f' % mse_lasso_test)"
      ],
      "metadata": {
        "colab": {
          "base_uri": "https://localhost:8080/"
        },
        "id": "FEu1I2yGsR6Q",
        "outputId": "ee0bd794-20d6-48f6-e1bb-92dcb9d55bf9"
      },
      "execution_count": null,
      "outputs": [
        {
          "output_type": "stream",
          "name": "stdout",
          "text": [
            "using the results from the hyperparameter optimization from before on a 80:20 train test split\n",
            "For Ridge Regression with using degree 2 polynomial expansion and lambda = 100.0000\n",
            "--------------------------------------------------------------------------------\n",
            "\n",
            "MSE (Training) = 0.5177\n",
            "MSE (Testing)  = 0.6386\n",
            "\n",
            "\n",
            "For Lasso with using degree 2 polynomial expansion and lambda = 1.0000\n",
            "---------------------------------------------------------------------\n",
            "\n",
            "MSE (Training) = 0.7600\n",
            "MSE (Testing)  = 0.8271\n"
          ]
        }
      ]
    }
  ],
  "metadata": {
    "colab": {
      "provenance": [],
      "include_colab_link": true
    },
    "kernelspec": {
      "display_name": "Python 3.9.10 64-bit",
      "language": "python",
      "name": "python3"
    },
    "language_info": {
      "codemirror_mode": {
        "name": "ipython",
        "version": 3
      },
      "file_extension": ".py",
      "mimetype": "text/x-python",
      "name": "python",
      "nbconvert_exporter": "python",
      "pygments_lexer": "ipython3",
      "version": "3.9.10"
    },
    "vscode": {
      "interpreter": {
        "hash": "aee8b7b246df8f9039afb4144a1f6fd8d2ca17a180786b69acc140d282b71a49"
      }
    }
  },
  "nbformat": 4,
  "nbformat_minor": 0
}