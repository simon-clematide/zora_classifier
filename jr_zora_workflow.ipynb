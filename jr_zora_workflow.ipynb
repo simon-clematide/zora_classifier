{
 "cells": [
  {
   "cell_type": "markdown",
   "source": [
    "### Installations & Imports"
   ],
   "metadata": {
    "collapsed": false
   }
  },
  {
   "cell_type": "code",
   "execution_count": 2,
   "outputs": [
    {
     "name": "stdout",
     "output_type": "stream",
     "text": [
      "Requirement already satisfied: langdetect in ./venv/lib/python3.11/site-packages (1.0.9)\r\n",
      "Requirement already satisfied: six in ./venv/lib/python3.11/site-packages (from langdetect) (1.16.0)\r\n",
      "\u001B[33mWARNING: You are using pip version 21.3.1; however, version 23.0.1 is available.\r\n",
      "You should consider upgrading via the '/Users/Jessie/Downloads/UZH/Thesis/zora_classifier/venv/bin/python -m pip install --upgrade pip' command.\u001B[0m\r\n"
     ]
    }
   ],
   "source": [
    "!pip install langdetect"
   ],
   "metadata": {
    "collapsed": false
   }
  },
  {
   "cell_type": "code",
   "execution_count": null,
   "outputs": [],
   "source": [
    "from langdetect import detect"
   ],
   "metadata": {
    "collapsed": false,
    "pycharm": {
     "is_executing": true
    }
   }
  },
  {
   "cell_type": "markdown",
   "source": [
    "# Initial reading of file\n",
    "\n",
    "Original .csv file of Robin's (which was actually semicolon-separated, which was a problem for Excel) has been opened and re-exported from Numbers as .tsv with column headers added."
   ],
   "metadata": {
    "collapsed": false
   }
  },
  {
   "cell_type": "code",
   "execution_count": 3,
   "outputs": [
    {
     "ename": "LangDetectException",
     "evalue": "No features in text.",
     "output_type": "error",
     "traceback": [
      "\u001B[0;31m---------------------------------------------------------------------------\u001B[0m",
      "\u001B[0;31mLangDetectException\u001B[0m                       Traceback (most recent call last)",
      "Cell \u001B[0;32mIn[3], line 9\u001B[0m\n\u001B[1;32m      6\u001B[0m         row \u001B[38;5;241m=\u001B[39m line\u001B[38;5;241m.\u001B[39msplit(\u001B[38;5;124m\"\u001B[39m\u001B[38;5;130;01m\\t\u001B[39;00m\u001B[38;5;124m\"\u001B[39m)\n\u001B[1;32m      8\u001B[0m         \u001B[38;5;66;03m# Only those with abstracts\u001B[39;00m\n\u001B[0;32m----> 9\u001B[0m         \u001B[38;5;28;01mif\u001B[39;00m row[\u001B[38;5;241m-\u001B[39m\u001B[38;5;241m1\u001B[39m] \u001B[38;5;241m!=\u001B[39m \u001B[38;5;124m\"\u001B[39m\u001B[38;5;124m\"\u001B[39m \u001B[38;5;129;01mand\u001B[39;00m \u001B[43mdetect\u001B[49m\u001B[43m(\u001B[49m\u001B[43mrow\u001B[49m\u001B[43m[\u001B[49m\u001B[38;5;241;43m-\u001B[39;49m\u001B[38;5;241;43m1\u001B[39;49m\u001B[43m]\u001B[49m\u001B[43m)\u001B[49m \u001B[38;5;241m==\u001B[39m \u001B[38;5;124m\"\u001B[39m\u001B[38;5;124men\u001B[39m\u001B[38;5;124m\"\u001B[39m:\n\u001B[1;32m     10\u001B[0m             rows\u001B[38;5;241m.\u001B[39mappend(row)\n\u001B[1;32m     12\u001B[0m \u001B[38;5;66;03m# Remove header row\u001B[39;00m\n",
      "File \u001B[0;32m~/Downloads/UZH/Thesis/zora_classifier/venv/lib/python3.11/site-packages/langdetect/detector_factory.py:130\u001B[0m, in \u001B[0;36mdetect\u001B[0;34m(text)\u001B[0m\n\u001B[1;32m    128\u001B[0m detector \u001B[38;5;241m=\u001B[39m _factory\u001B[38;5;241m.\u001B[39mcreate()\n\u001B[1;32m    129\u001B[0m detector\u001B[38;5;241m.\u001B[39mappend(text)\n\u001B[0;32m--> 130\u001B[0m \u001B[38;5;28;01mreturn\u001B[39;00m \u001B[43mdetector\u001B[49m\u001B[38;5;241;43m.\u001B[39;49m\u001B[43mdetect\u001B[49m\u001B[43m(\u001B[49m\u001B[43m)\u001B[49m\n",
      "File \u001B[0;32m~/Downloads/UZH/Thesis/zora_classifier/venv/lib/python3.11/site-packages/langdetect/detector.py:136\u001B[0m, in \u001B[0;36mDetector.detect\u001B[0;34m(self)\u001B[0m\n\u001B[1;32m    132\u001B[0m \u001B[38;5;28;01mdef\u001B[39;00m \u001B[38;5;21mdetect\u001B[39m(\u001B[38;5;28mself\u001B[39m):\n\u001B[1;32m    133\u001B[0m \u001B[38;5;250m    \u001B[39m\u001B[38;5;124;03m'''Detect language of the target text and return the language name\u001B[39;00m\n\u001B[1;32m    134\u001B[0m \u001B[38;5;124;03m    which has the highest probability.\u001B[39;00m\n\u001B[1;32m    135\u001B[0m \u001B[38;5;124;03m    '''\u001B[39;00m\n\u001B[0;32m--> 136\u001B[0m     probabilities \u001B[38;5;241m=\u001B[39m \u001B[38;5;28;43mself\u001B[39;49m\u001B[38;5;241;43m.\u001B[39;49m\u001B[43mget_probabilities\u001B[49m\u001B[43m(\u001B[49m\u001B[43m)\u001B[49m\n\u001B[1;32m    137\u001B[0m     \u001B[38;5;28;01mif\u001B[39;00m probabilities:\n\u001B[1;32m    138\u001B[0m         \u001B[38;5;28;01mreturn\u001B[39;00m probabilities[\u001B[38;5;241m0\u001B[39m]\u001B[38;5;241m.\u001B[39mlang\n",
      "File \u001B[0;32m~/Downloads/UZH/Thesis/zora_classifier/venv/lib/python3.11/site-packages/langdetect/detector.py:143\u001B[0m, in \u001B[0;36mDetector.get_probabilities\u001B[0;34m(self)\u001B[0m\n\u001B[1;32m    141\u001B[0m \u001B[38;5;28;01mdef\u001B[39;00m \u001B[38;5;21mget_probabilities\u001B[39m(\u001B[38;5;28mself\u001B[39m):\n\u001B[1;32m    142\u001B[0m     \u001B[38;5;28;01mif\u001B[39;00m \u001B[38;5;28mself\u001B[39m\u001B[38;5;241m.\u001B[39mlangprob \u001B[38;5;129;01mis\u001B[39;00m \u001B[38;5;28;01mNone\u001B[39;00m:\n\u001B[0;32m--> 143\u001B[0m         \u001B[38;5;28;43mself\u001B[39;49m\u001B[38;5;241;43m.\u001B[39;49m\u001B[43m_detect_block\u001B[49m\u001B[43m(\u001B[49m\u001B[43m)\u001B[49m\n\u001B[1;32m    144\u001B[0m     \u001B[38;5;28;01mreturn\u001B[39;00m \u001B[38;5;28mself\u001B[39m\u001B[38;5;241m.\u001B[39m_sort_probability(\u001B[38;5;28mself\u001B[39m\u001B[38;5;241m.\u001B[39mlangprob)\n",
      "File \u001B[0;32m~/Downloads/UZH/Thesis/zora_classifier/venv/lib/python3.11/site-packages/langdetect/detector.py:150\u001B[0m, in \u001B[0;36mDetector._detect_block\u001B[0;34m(self)\u001B[0m\n\u001B[1;32m    148\u001B[0m ngrams \u001B[38;5;241m=\u001B[39m \u001B[38;5;28mself\u001B[39m\u001B[38;5;241m.\u001B[39m_extract_ngrams()\n\u001B[1;32m    149\u001B[0m \u001B[38;5;28;01mif\u001B[39;00m \u001B[38;5;129;01mnot\u001B[39;00m ngrams:\n\u001B[0;32m--> 150\u001B[0m     \u001B[38;5;28;01mraise\u001B[39;00m LangDetectException(ErrorCode\u001B[38;5;241m.\u001B[39mCantDetectError, \u001B[38;5;124m'\u001B[39m\u001B[38;5;124mNo features in text.\u001B[39m\u001B[38;5;124m'\u001B[39m)\n\u001B[1;32m    152\u001B[0m \u001B[38;5;28mself\u001B[39m\u001B[38;5;241m.\u001B[39mlangprob \u001B[38;5;241m=\u001B[39m [\u001B[38;5;241m0.0\u001B[39m] \u001B[38;5;241m*\u001B[39m \u001B[38;5;28mlen\u001B[39m(\u001B[38;5;28mself\u001B[39m\u001B[38;5;241m.\u001B[39mlanglist)\n\u001B[1;32m    154\u001B[0m \u001B[38;5;28mself\u001B[39m\u001B[38;5;241m.\u001B[39mrandom\u001B[38;5;241m.\u001B[39mseed(\u001B[38;5;28mself\u001B[39m\u001B[38;5;241m.\u001B[39mseed)\n",
      "\u001B[0;31mLangDetectException\u001B[0m: No features in text."
     ]
    }
   ],
   "source": [
    "with open(\"data/robin_data.tsv\") as f:\n",
    "    rows = []\n",
    "\n",
    "    for line in f:\n",
    "        line = line.rstrip(\"\\n\")\n",
    "        row = line.split(\"\\t\")\n",
    "\n",
    "        # Only those with abstracts\n",
    "        if row[-1] != \"\" and detect(row[-1]) == \"en\":\n",
    "            rows.append(row)\n",
    "\n",
    "# Remove header row\n",
    "rows.pop(0)"
   ],
   "metadata": {
    "collapsed": false
   }
  },
  {
   "cell_type": "markdown",
   "source": [
    "Error: `LangDetectException: No features in text.` Let's throw in a `try/except` condition."
   ],
   "metadata": {
    "collapsed": false
   }
  },
  {
   "cell_type": "code",
   "execution_count": 4,
   "outputs": [
    {
     "name": "stdout",
     "output_type": "stream",
     "text": [
      "This row throws an error: ['\"']\n"
     ]
    },
    {
     "data": {
      "text/plain": "['SDG', 'Author(s)', 'Faculty', 'Year', 'Citation', 'Citation 2', 'Abstract']"
     },
     "execution_count": 4,
     "metadata": {},
     "output_type": "execute_result"
    }
   ],
   "source": [
    "with open(\"data/robin_data.tsv\") as f:\n",
    "    rows = []\n",
    "\n",
    "    for line in f:\n",
    "        line = line.rstrip(\"\\n\")\n",
    "        row = line.split(\"\\t\")\n",
    "\n",
    "        # Only those with abstracts\n",
    "        if row[-1] != \"\":\n",
    "            try:\n",
    "                language = detect(row[-1])\n",
    "            except:\n",
    "                language = \"error\"\n",
    "                print(\"This row throws an error:\", row)\n",
    "            rows.append(row)\n",
    "\n",
    "# Remove header row\n",
    "rows.pop(0)"
   ],
   "metadata": {
    "collapsed": false
   }
  },
  {
   "cell_type": "markdown",
   "source": [
    "Apparently there's one row that's just a quote mark. I suspect it's a line/column break issue, so let's try getting the rows before and after it to find it in Numbers and manually assess."
   ],
   "metadata": {
    "collapsed": false
   }
  },
  {
   "cell_type": "code",
   "execution_count": 5,
   "outputs": [
    {
     "data": {
      "text/plain": "459"
     },
     "execution_count": 5,
     "metadata": {},
     "output_type": "execute_result"
    }
   ],
   "source": [
    "rows.index([\"\\\"\"])"
   ],
   "metadata": {
    "collapsed": false
   }
  },
  {
   "cell_type": "code",
   "execution_count": 10,
   "outputs": [
    {
     "data": {
      "text/plain": "[['SDG\\xa015.00',\n  '\"Ozgul, Arpat\"',\n  'MNF',\n  '2019',\n  '\"Life history responses of meerkats to seasonal changes in extreme environments. Science, 363(6427):631-635.\"',\n  '\"Life history responses of meerkats to seasonal changes in extreme environments. Science, 363(6427):631-635.\"',\n  '\"Species in extreme habitats increasingly face changes in seasonal climate, but the demographic mechanisms through which these changes affect population persistence remain unknown. We investigated how changes in seasonal rainfall and temperature influence vital rates and viability of an arid environment specialist, the Kalahari meerkat, through effects on body mass. We show that climate change–induced reduction in adult mass in the prebreeding season would decrease fecundity during the breeding season and increase extinction risk, particularly at low population densities. In contrast, a warmer nonbreeding season resulting in increased mass and survival would buffer negative effects of reduced rainfall during the breeding season, ensuring persistence. Because most ecosystems undergo seasonal climate variations, a full understanding of species vulnerability to global change relies on linking seasonal trait and population dynamics.'],\n ['\"'],\n ['SDG\\xa015.00',\n  '\"Ozgul, Arpat\"',\n  'MNF',\n  '2018',\n  '\"Density feedbacks mediate effects of environmental change on population dynamics of a semidesert rodent. Journal of Animal Ecology, 87(6):1534-1546.\"',\n  '\"Density feedbacks mediate effects of environmental change on population dynamics of a semidesert rodent. Journal of Animal Ecology, 87(6):1534-1546.\"',\n  '\"Population dynamics are the result of an interplay between extrinsic and intrinsic environmental drivers. Predicting the effects of environmental change on wildlife populations therefore requires a thorough understanding of the mechanisms through which different environmental drivers interact to generate changes in population size and structure.']]"
     },
     "execution_count": 10,
     "metadata": {},
     "output_type": "execute_result"
    }
   ],
   "source": [
    "rows[458:461]"
   ],
   "metadata": {
    "collapsed": false
   }
  },
  {
   "cell_type": "markdown",
   "source": [
    "The one before is row 567 and the one after is 568 in Numbers, so \" is not a row in the file. That means I'm not missing a data entry, so I'll just toss it from my list."
   ],
   "metadata": {
    "collapsed": false
   }
  },
  {
   "cell_type": "code",
   "execution_count": null,
   "outputs": [],
   "source": [],
   "metadata": {
    "collapsed": false
   }
  }
 ],
 "metadata": {
  "kernelspec": {
   "display_name": "Python 3",
   "language": "python",
   "name": "python3"
  },
  "language_info": {
   "codemirror_mode": {
    "name": "ipython",
    "version": 2
   },
   "file_extension": ".py",
   "mimetype": "text/x-python",
   "name": "python",
   "nbconvert_exporter": "python",
   "pygments_lexer": "ipython2",
   "version": "2.7.6"
  }
 },
 "nbformat": 4,
 "nbformat_minor": 0
}
