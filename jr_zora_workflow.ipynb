{
 "cells": [
  {
   "cell_type": "markdown",
   "source": [
    "### Installations & Imports"
   ],
   "metadata": {
    "collapsed": false
   }
  },
  {
   "cell_type": "code",
   "execution_count": 2,
   "outputs": [
    {
     "name": "stdout",
     "output_type": "stream",
     "text": [
      "Requirement already satisfied: langdetect in ./venv/lib/python3.11/site-packages (1.0.9)\r\n",
      "Requirement already satisfied: six in ./venv/lib/python3.11/site-packages (from langdetect) (1.16.0)\r\n",
      "\u001B[33mWARNING: You are using pip version 21.3.1; however, version 23.0.1 is available.\r\n",
      "You should consider upgrading via the '/Users/Jessie/Downloads/UZH/Thesis/zora_classifier/venv/bin/python -m pip install --upgrade pip' command.\u001B[0m\r\n"
     ]
    }
   ],
   "source": [
    "!pip install langdetect"
   ],
   "metadata": {
    "collapsed": false
   }
  },
  {
   "cell_type": "code",
   "execution_count": null,
   "outputs": [],
   "source": [
    "from langdetect import detect"
   ],
   "metadata": {
    "collapsed": false,
    "pycharm": {
     "is_executing": true
    }
   }
  },
  {
   "cell_type": "markdown",
   "source": [
    "# Initial reading of file\n",
    "\n",
    "Original .csv file of Robin's (which was actually semicolon-separated, which was a problem for Excel) has been opened and re-exported from Numbers as .tsv with column headers added."
   ],
   "metadata": {
    "collapsed": false
   }
  },
  {
   "cell_type": "code",
   "execution_count": 3,
   "outputs": [
    {
     "ename": "LangDetectException",
     "evalue": "No features in text.",
     "output_type": "error",
     "traceback": [
      "\u001B[0;31m---------------------------------------------------------------------------\u001B[0m",
      "\u001B[0;31mLangDetectException\u001B[0m                       Traceback (most recent call last)",
      "Cell \u001B[0;32mIn[3], line 9\u001B[0m\n\u001B[1;32m      6\u001B[0m         row \u001B[38;5;241m=\u001B[39m line\u001B[38;5;241m.\u001B[39msplit(\u001B[38;5;124m\"\u001B[39m\u001B[38;5;130;01m\\t\u001B[39;00m\u001B[38;5;124m\"\u001B[39m)\n\u001B[1;32m      8\u001B[0m         \u001B[38;5;66;03m# Only those with abstracts\u001B[39;00m\n\u001B[0;32m----> 9\u001B[0m         \u001B[38;5;28;01mif\u001B[39;00m row[\u001B[38;5;241m-\u001B[39m\u001B[38;5;241m1\u001B[39m] \u001B[38;5;241m!=\u001B[39m \u001B[38;5;124m\"\u001B[39m\u001B[38;5;124m\"\u001B[39m \u001B[38;5;129;01mand\u001B[39;00m \u001B[43mdetect\u001B[49m\u001B[43m(\u001B[49m\u001B[43mrow\u001B[49m\u001B[43m[\u001B[49m\u001B[38;5;241;43m-\u001B[39;49m\u001B[38;5;241;43m1\u001B[39;49m\u001B[43m]\u001B[49m\u001B[43m)\u001B[49m \u001B[38;5;241m==\u001B[39m \u001B[38;5;124m\"\u001B[39m\u001B[38;5;124men\u001B[39m\u001B[38;5;124m\"\u001B[39m:\n\u001B[1;32m     10\u001B[0m             rows\u001B[38;5;241m.\u001B[39mappend(row)\n\u001B[1;32m     12\u001B[0m \u001B[38;5;66;03m# Remove header row\u001B[39;00m\n",
      "File \u001B[0;32m~/Downloads/UZH/Thesis/zora_classifier/venv/lib/python3.11/site-packages/langdetect/detector_factory.py:130\u001B[0m, in \u001B[0;36mdetect\u001B[0;34m(text)\u001B[0m\n\u001B[1;32m    128\u001B[0m detector \u001B[38;5;241m=\u001B[39m _factory\u001B[38;5;241m.\u001B[39mcreate()\n\u001B[1;32m    129\u001B[0m detector\u001B[38;5;241m.\u001B[39mappend(text)\n\u001B[0;32m--> 130\u001B[0m \u001B[38;5;28;01mreturn\u001B[39;00m \u001B[43mdetector\u001B[49m\u001B[38;5;241;43m.\u001B[39;49m\u001B[43mdetect\u001B[49m\u001B[43m(\u001B[49m\u001B[43m)\u001B[49m\n",
      "File \u001B[0;32m~/Downloads/UZH/Thesis/zora_classifier/venv/lib/python3.11/site-packages/langdetect/detector.py:136\u001B[0m, in \u001B[0;36mDetector.detect\u001B[0;34m(self)\u001B[0m\n\u001B[1;32m    132\u001B[0m \u001B[38;5;28;01mdef\u001B[39;00m \u001B[38;5;21mdetect\u001B[39m(\u001B[38;5;28mself\u001B[39m):\n\u001B[1;32m    133\u001B[0m \u001B[38;5;250m    \u001B[39m\u001B[38;5;124;03m'''Detect language of the target text and return the language name\u001B[39;00m\n\u001B[1;32m    134\u001B[0m \u001B[38;5;124;03m    which has the highest probability.\u001B[39;00m\n\u001B[1;32m    135\u001B[0m \u001B[38;5;124;03m    '''\u001B[39;00m\n\u001B[0;32m--> 136\u001B[0m     probabilities \u001B[38;5;241m=\u001B[39m \u001B[38;5;28;43mself\u001B[39;49m\u001B[38;5;241;43m.\u001B[39;49m\u001B[43mget_probabilities\u001B[49m\u001B[43m(\u001B[49m\u001B[43m)\u001B[49m\n\u001B[1;32m    137\u001B[0m     \u001B[38;5;28;01mif\u001B[39;00m probabilities:\n\u001B[1;32m    138\u001B[0m         \u001B[38;5;28;01mreturn\u001B[39;00m probabilities[\u001B[38;5;241m0\u001B[39m]\u001B[38;5;241m.\u001B[39mlang\n",
      "File \u001B[0;32m~/Downloads/UZH/Thesis/zora_classifier/venv/lib/python3.11/site-packages/langdetect/detector.py:143\u001B[0m, in \u001B[0;36mDetector.get_probabilities\u001B[0;34m(self)\u001B[0m\n\u001B[1;32m    141\u001B[0m \u001B[38;5;28;01mdef\u001B[39;00m \u001B[38;5;21mget_probabilities\u001B[39m(\u001B[38;5;28mself\u001B[39m):\n\u001B[1;32m    142\u001B[0m     \u001B[38;5;28;01mif\u001B[39;00m \u001B[38;5;28mself\u001B[39m\u001B[38;5;241m.\u001B[39mlangprob \u001B[38;5;129;01mis\u001B[39;00m \u001B[38;5;28;01mNone\u001B[39;00m:\n\u001B[0;32m--> 143\u001B[0m         \u001B[38;5;28;43mself\u001B[39;49m\u001B[38;5;241;43m.\u001B[39;49m\u001B[43m_detect_block\u001B[49m\u001B[43m(\u001B[49m\u001B[43m)\u001B[49m\n\u001B[1;32m    144\u001B[0m     \u001B[38;5;28;01mreturn\u001B[39;00m \u001B[38;5;28mself\u001B[39m\u001B[38;5;241m.\u001B[39m_sort_probability(\u001B[38;5;28mself\u001B[39m\u001B[38;5;241m.\u001B[39mlangprob)\n",
      "File \u001B[0;32m~/Downloads/UZH/Thesis/zora_classifier/venv/lib/python3.11/site-packages/langdetect/detector.py:150\u001B[0m, in \u001B[0;36mDetector._detect_block\u001B[0;34m(self)\u001B[0m\n\u001B[1;32m    148\u001B[0m ngrams \u001B[38;5;241m=\u001B[39m \u001B[38;5;28mself\u001B[39m\u001B[38;5;241m.\u001B[39m_extract_ngrams()\n\u001B[1;32m    149\u001B[0m \u001B[38;5;28;01mif\u001B[39;00m \u001B[38;5;129;01mnot\u001B[39;00m ngrams:\n\u001B[0;32m--> 150\u001B[0m     \u001B[38;5;28;01mraise\u001B[39;00m LangDetectException(ErrorCode\u001B[38;5;241m.\u001B[39mCantDetectError, \u001B[38;5;124m'\u001B[39m\u001B[38;5;124mNo features in text.\u001B[39m\u001B[38;5;124m'\u001B[39m)\n\u001B[1;32m    152\u001B[0m \u001B[38;5;28mself\u001B[39m\u001B[38;5;241m.\u001B[39mlangprob \u001B[38;5;241m=\u001B[39m [\u001B[38;5;241m0.0\u001B[39m] \u001B[38;5;241m*\u001B[39m \u001B[38;5;28mlen\u001B[39m(\u001B[38;5;28mself\u001B[39m\u001B[38;5;241m.\u001B[39mlanglist)\n\u001B[1;32m    154\u001B[0m \u001B[38;5;28mself\u001B[39m\u001B[38;5;241m.\u001B[39mrandom\u001B[38;5;241m.\u001B[39mseed(\u001B[38;5;28mself\u001B[39m\u001B[38;5;241m.\u001B[39mseed)\n",
      "\u001B[0;31mLangDetectException\u001B[0m: No features in text."
     ]
    }
   ],
   "source": [
    "with open(\"data/robin_data.tsv\") as f:\n",
    "    rows = []\n",
    "\n",
    "    for line in f:\n",
    "        line = line.rstrip(\"\\n\")\n",
    "        row = line.split(\"\\t\")\n",
    "\n",
    "        # Only those with abstracts\n",
    "        if row[-1] != \"\" and detect(row[-1]) == \"en\":\n",
    "            rows.append(row)\n",
    "\n",
    "# Remove header row\n",
    "rows.pop(0)"
   ],
   "metadata": {
    "collapsed": false
   }
  },
  {
   "cell_type": "markdown",
   "source": [
    "## \"\\\"\" issue\n",
    "\n",
    "Error: `LangDetectException: No features in text.` Let's throw in a `try/except` condition."
   ],
   "metadata": {
    "collapsed": false
   }
  },
  {
   "cell_type": "code",
   "execution_count": 4,
   "outputs": [
    {
     "name": "stdout",
     "output_type": "stream",
     "text": [
      "This row throws an error: ['\"']\n"
     ]
    },
    {
     "data": {
      "text/plain": "['SDG', 'Author(s)', 'Faculty', 'Year', 'Citation', 'Citation 2', 'Abstract']"
     },
     "execution_count": 4,
     "metadata": {},
     "output_type": "execute_result"
    }
   ],
   "source": [
    "with open(\"data/robin_data.tsv\") as f:\n",
    "    rows = []\n",
    "\n",
    "    for line in f:\n",
    "        line = line.rstrip(\"\\n\")\n",
    "        row = line.split(\"\\t\")\n",
    "\n",
    "        # Only those with abstracts\n",
    "        if row[-1] != \"\":\n",
    "            try:\n",
    "                language = detect(row[-1])\n",
    "            except:\n",
    "                language = \"error\"\n",
    "                print(\"This row throws an error:\", row)\n",
    "            rows.append(row)\n",
    "\n",
    "# Remove header row\n",
    "rows.pop(0)"
   ],
   "metadata": {
    "collapsed": false
   }
  },
  {
   "cell_type": "markdown",
   "source": [
    "Apparently there's one row that's just a quote mark. I suspect it's a line/column break issue, so let's try getting the rows before and after it to find it in Numbers and manually assess."
   ],
   "metadata": {
    "collapsed": false
   }
  },
  {
   "cell_type": "code",
   "execution_count": 5,
   "outputs": [
    {
     "data": {
      "text/plain": "459"
     },
     "execution_count": 5,
     "metadata": {},
     "output_type": "execute_result"
    }
   ],
   "source": [
    "rows.index([\"\\\"\"])"
   ],
   "metadata": {
    "collapsed": false
   }
  },
  {
   "cell_type": "code",
   "execution_count": 10,
   "outputs": [
    {
     "data": {
      "text/plain": "[['SDG\\xa015.00',\n  '\"Ozgul, Arpat\"',\n  'MNF',\n  '2019',\n  '\"Life history responses of meerkats to seasonal changes in extreme environments. Science, 363(6427):631-635.\"',\n  '\"Life history responses of meerkats to seasonal changes in extreme environments. Science, 363(6427):631-635.\"',\n  '\"Species in extreme habitats increasingly face changes in seasonal climate, but the demographic mechanisms through which these changes affect population persistence remain unknown. We investigated how changes in seasonal rainfall and temperature influence vital rates and viability of an arid environment specialist, the Kalahari meerkat, through effects on body mass. We show that climate change–induced reduction in adult mass in the prebreeding season would decrease fecundity during the breeding season and increase extinction risk, particularly at low population densities. In contrast, a warmer nonbreeding season resulting in increased mass and survival would buffer negative effects of reduced rainfall during the breeding season, ensuring persistence. Because most ecosystems undergo seasonal climate variations, a full understanding of species vulnerability to global change relies on linking seasonal trait and population dynamics.'],\n ['\"'],\n ['SDG\\xa015.00',\n  '\"Ozgul, Arpat\"',\n  'MNF',\n  '2018',\n  '\"Density feedbacks mediate effects of environmental change on population dynamics of a semidesert rodent. Journal of Animal Ecology, 87(6):1534-1546.\"',\n  '\"Density feedbacks mediate effects of environmental change on population dynamics of a semidesert rodent. Journal of Animal Ecology, 87(6):1534-1546.\"',\n  '\"Population dynamics are the result of an interplay between extrinsic and intrinsic environmental drivers. Predicting the effects of environmental change on wildlife populations therefore requires a thorough understanding of the mechanisms through which different environmental drivers interact to generate changes in population size and structure.']]"
     },
     "execution_count": 10,
     "metadata": {},
     "output_type": "execute_result"
    }
   ],
   "source": [
    "rows[458:461]"
   ],
   "metadata": {
    "collapsed": false
   }
  },
  {
   "cell_type": "markdown",
   "source": [
    "The one before is row 567 and the one after is 568 in Numbers, so \" is not a row in the file. That means I'm not missing a data entry, so I won't try to debug it further and just toss it from my list.\n",
    "\n",
    "As a sanity check, though, I will look for any other potential line/col break issues."
   ],
   "metadata": {
    "collapsed": false
   }
  },
  {
   "cell_type": "code",
   "execution_count": 13,
   "outputs": [
    {
     "name": "stdout",
     "output_type": "stream",
     "text": [
      "[['Results While microbial richness was marginally affected, we found pronounced cropping effects on community composition, which were specific for the respective microbiomes. Soil bacterial communities were primarily structured by tillage, whereas soil fungal communities responded mainly to management type with additional effects by tillage. In roots, management type was also the driving factor for bacteria but not for fungi, which were generally determined by changes in tillage intensity. To quantify an “effect size” for microbiota manipulation, we found that about 10% of variation in microbial communities was explained by the tested cropping practices. Cropping sensitive microbes were taxonomically diverse, and they responded in guilds of taxa to the specific practices. These microbes also included frequent community members or members co-occurring with many other microbes in the community, suggesting that cropping practices may allow manipulation of influential community members.'], ['Conclusions Understanding the abundance patterns of cropping sensitive microbes presents the basis towards developing microbiota management strategies for smart farming. For future targeted microbiota management—e.g., to foster certain microbes with specific agricultural practices—a next step will be to identify the functional traits of the cropping sensitive microbes.\"'], ['We rely on Real Options Analysis to assess the two types of investment opportunities for the farmer. This approach allows us to determine not only whether the investments should be undertaken or not, but also the optimal timing to do so. We find that one quinoa variety (Kancolla) offers the highest benefits to the farmer and switching to this option should be immediate if investment costs are low; however, as costs increase, the decision to switch quinoa variety is optimally postponed until quinoa price uncertainty is reduced. We find that the Waru Waru option is not worth undertaking unless further evidence related to the increase in the productivity of quinoa is developed. However, at increases in productivity above 20%, the Waru Waru option becomes highly attractive. The article also discusses how quinoa price dynamics, yield sensitivity to frost, and governmental support impact decisions of the smallholder farmer.\"'], ['We rely on Real Options Analysis to assess the two types of investment opportunities for the farmer. This approach allows us to determine not only whether the investments should be undertaken or not, but also the optimal timing to do so. We find that one quinoa variety (Kancolla) offers the highest benefits to the farmer and switching to this option should be immediate if investment costs are low; however, as costs increase, the decision to switch quinoa variety is optimally postponed until quinoa price uncertainty is reduced. We find that the Waru Waru option is not worth undertaking unless further evidence related to the increase in the productivity of quinoa is developed. However, at increases in productivity above 20%, the Waru Waru option becomes highly attractive. The article also discusses how quinoa price dynamics, yield sensitivity to frost, and governmental support impact decisions of the smallholder farmer.\"'], ['RECENT FINDINGS: Research has found that the DSM-5 PTSD<6Y, and a similar version in the DC:0-5, currently provides the most developmentally sensitive classification of PTSD for young children. In contrast, preliminary evidence suggests that the ICD-11 criteria might not appropriately capture PTSD in young children. The inclusion of PTSD<6Y, the first developmental subtype in the DSM-5, represents an important step towards having a diagnostic system that is developmentally sensitive and relevant across the life span. However, further validation work and research with regard to the definition of trauma and functional impairment as well as with the age-appropriate description of symptoms is needed, especially in the youngest age group (0-3 years).\"'], ['METHODS: Participants were screened according to subjective and objective health-related attributes, and those who were evaluated to be \"\"successful agers\"\" were included. Semistructured interviews were conducted with 12 former Verdingkinder (mean age: 71 years) that lasted 60-120 minutes. The interviews were analyzed using the paradigm model of the Grounded Theory.'], ['RESULTS: In the interviews adverse experiences and negative consequences were reported. However, where thriving was triggered in response to these experiences, the factors identified as \"\"lightheartedness,\"\" \"\"social purpose,\"\" and \"\"self-enhancement\"\" were associated with successful aging. Factors including motivation, reflection, personality traits, social support, individual coping strategies, turning points, and processing were reported as central to thriving.'], ['CONCLUSION: The identified factors show similarities with established predictors of health and well-being. Thus, under certain circumstances early and prolonged adverse experiences can also provide the opportunity to develop positive resources for successful aging.\"'], ['METHODS: A single-blind four-arm parallel-group cluster-RCT is used. The sample consists of 400 friendship dyads between 14 and 18 years of age. As the recruitment takes place in schools, a cluster randomization of the schools is used to enroll dyads to (a) an IP intervention, (b) a CP intervention or (c) one of the two no-planning control conditions. Devise-measured and self-reported PA as the primary outcomes, self-regulatory strategies, and social exchange processes as secondary outcomes are assessed at three or four time points. After baseline measurement, the baseline ecological momentary assessment of the main variables takes place for 8 days followed by the intervention and a 7-days diary phase. Follow-ups are 1 month and 6 months later. Subsequent to the six-month follow-up, another 7-days diary phase takes place.'], ['DISCUSSION: This is the first study examining IP in comparison to CP in adolescents applying a single-blind cluster RCT. Consequently, the study allows for understanding the efficacy of individual and collaborative planning and the underlying mechanisms in adolescent dyads.'], ['TRIAL REGISTRATION: This RCT was funded by the Swiss National Science Foundation (100019_169781/1) and was registered on 18/06/2018 at ClinicalTrials.gov : NCT03575559 .\"'], [\"DESIGN: Longitudinal data were collected among 526 dyads of children (6-11 years old) and one of their parents. Parents reported parental feeding practices, restriction of unhealthy food, permission of unhealthy food, and pressure to eat. Children's weight and height were assessed objectively. All measurements were conducted twice with a time lag of 10 months.\"], [\"RESULTS: Cross-lagged panel analyses demonstrated that low levels of children's BMI percentiles (measured at the baseline) predicted parental feeding practices (measured at the follow-up) but not vice versa. Only one effect suggesting bi-directionality was found, with parental restriction of unhealthy food preceding higher levels of children's BMI percentiles at the follow-up.\"], ['CONCLUSIONS: Parental feeding practices seem to be a reaction to the levels of children\\'s BMI percentiles.\"'], ['DESIGN: This article reports findings from two intensive longitudinal studies, testing the reciprocal relationship of self-efficacy and its two main sources within the naturally occurring process of quitting smoking (without intervention). Smokers (Study 1: N = 100 smokers in smoker-non-smoker couples (1,787 observations); Study 2; N = 81 female (1,401 observations) and N = 79 male smokers (1,328 observations) in dual-smoker couples) reported their mastery experiences (not smoking the entire day; in Study 2, mastery experience of partner served as vicarious experience) and smoking-specific self-efficacy for 21 days after a self-set quit date.'], ['METHODS: Time-lagged multilevel analyses were conducted using change-predicting-change models.'], [\"RESULTS: Increases in mastery experiences predicted changes in self-efficacy, and increases in self-efficacy predicted changes in mastery experiences in Study 1. Study 2 replicated these results and showed contagion effects (partners' mastery on individuals' mastery and partners' self-efficacy on individuals' self-efficacy), but found no evidence for a link between vicarious experiences (partners' mastery experiences) and individuals' self-efficacy.\"], ['CONCLUSIONS: This article demonstrates that mastery experiences and self-efficacy show a reciprocal relationship within smokers during a quit attempt in a day-to-day design, as well as contagion effects in couples when both partners try to quit simultaneously. Statement of Contribution What is already known on this subject? Self-efficacy is one of the strongest correlates of quitting smoking. Despite the assumptions on how self-efficacy is built formulated by Bandura two decades ago, there is only little empirical evidence on the origins of self-efficacy. The open research questions for these two studies were whether mastery experiences (experiencing success with the new behavior) and vicarious experiences (seeing others succeed) facilitate the smoking cessation process, whether mastery experiences and self-efficacy affect one another reciprocally and whether intimate partners serve as role models for each other. What does this study add? Mastery experiences and self-efficacy are mutually depended on a day-to-day basis within the smoking cessation process. Effects of mastery experiences fade rapidly, indicating that constant successes are needed to keep up self-efficacy. Dual-smoker couples show similar changes in a contagious way - if mastery experiences increase in one person, mastery experiences increase in the partner; if self-efficacy increases in one person, self-efficacy increases in the partner, too. No support for vicarious experiences (mastery experiences in one person affecting self-efficacy in the partner and vice versa) as sources of self-efficacy in the quitting process was found.\"'], ['Design: A prospective and dyadic study with two measurement points was conducted. The follow up (Time 2) took place at 7–8-month after the baseline (Time 1).'], ['Methods: Data were collected among 922 dyads of parents (mean age 35.97 years old; 83.9% women) and children (aged 6–11; M = 8.42, 52% girls). Parents and children reported safety and accessibility perceptions (Time 1) and PA (Time 1 and 2). Parental and child body fat were measured objectively (Time 1 and 2).'], ['Results: Path analysis showed that parental perceptions of accessibility of PA facilities for children (Time 1) predicted child body fat and PA (Time 2). The associations were significant in a model accounting for longitudinal and cross-sectional associations between parental and child body fat and PA, controlling for age and gender of parents and children. Similar patterns of associations were found in the subsamples of dyads with children with normal body weight and with children with overweight/obesity.'], ['Conclusions: Parental, not child perceptions of accessibility of PA facilities predicted child PA and body fat.\"'], ['METHODS: Data come from the 2012 Canadian Community Health Survey - Mental Health (CCHS-MH). This cross-sectional survey included 5987 participants that were 15-30 years of age and self-reported their CHCs (n=2460, 41%) and the extent to which pain impacted daily functioning using items from the Health Utilities Index Mark 3 (HUI 3). Group comparisons between respondents with CHCs and healthy controls were made using chi-square tests. Odds ratios (OR) and 95% confidence intervals (CI) were computed from ordinal logistic regression models adjusting for sociodemographic covariates. Product-term interactions between CHCs and psychiatric disorders were included in the models to explore moderating effects. All analyses were weighted to maintain representativeness of the study sample to the Canadian population.'], ['RESULTS: The mean age of participants was 23.5 (SE 0.1) years and 48% were female. Compared to healthy controls, a greater proportion of participants with CHCs reported having chronic pain (20.3% vs. 4.5%, p<0.001). Among those with chronic pain, respondents with CHCs reported a greater number of activities prevented because of chronic disruptive pain (χ2=222.28, p<0.001). Similarly, in logistic regression models, participants with CHCs had greater odds of reporting chronic disruptive pain (OR=4.94, 95% CI=4.08-5.99). Alcohol (β=-0.66; p=0.025) and drug abuse/dependence disorders (β=-1.24; p=0.012) were found to moderate the association between CHCs and chronic disruptive pain. Specifically, the probability of chronic disruptive pain was higher for emerging adults without CHCs and with alcohol or drug disorders; however, among participants with CHCs, probability was higher for those without these disorders.'], ['CONCLUSIONS: There is a robust association between CHCs and chronic disruptive pain. The moderating effects suggest that alcohol or drug disorders are especially harmful for emerging adults without CHCs and contribute to higher levels of chronic disruptive pain; however, among those with CHCs, alcohol and illicit drugs may be used as a numbing agent to blunt chronic disruptive pain.'], ['IMPLICATIONS: Findings from this study have implications for the integration and coordination of services to design strategies aimed at managing chronic disruptive pain and preventing pain-related disabilities later in life. Within the health system, healthcare providers should engage in dialogues about mental health and substance use regularly with emerging adults, be proactive in screening for psychiatric disorders, and continue to monitor the impact of pain on daily functioning. Given the age range of emerging adults, there is tremendous opportunity for clinicians to work cooperatively with colleagues in the education system to support emerging adults with and without CHCs. Overall, clinicians, researchers, educators, and those in social services should continue to be mindful of the complex interrelationships between physical and mental health and chronic disruptive pain and work cooperatively to optimize health outcomes and prevent pain-related disabilities among emerging adults.\"'], [\"Although observer-rated instruments assessing therapist's adherence to relapse-preventive treatments are available, they do not adequately cover specific relapse-preventive elements that focus on implementation of strategies after terminating treatment. This study describes the development of the KERI-D (Kodierbogen zur Erfassung Rückfallprophylaktischer Interventionen bei Depression/Coding System to Assess Interventions of Relapse Prevention in Depression). The KERI-D is a new observer-based rating tool for acute or continuation/maintenance-phase sessions and assesses relapse-prevention elements including implementation into patient's daily routines.\"], ['METHODS'], ['The development of the KERI-D included iterative steps referring to theoretical, clinical and empirical sources. It consists of 19 content items within four categories (self-care, early warning signs, triggering events/situations, termination of therapy) and one global item. For empirical analyses, videotaped psychotherapy sessions of 36 psychotherapies were rated by three independent observers and analyzed for their psychometric properties.'], ['RESULTS'], ['Most items showed moderate to good inter-rater reliability (median ICC = .80) and retest reliability (median ICC = .93). Principal-axis factor analysis revealed three subscales, and first evidence of content validity was demonstrated. No associations with clinical follow-up data were found.'], ['LIMITATIONS'], ['Analysis was limited to a relatively small sample of selected psychotherapy sessions. Evaluation of predictive validity is a desirable next step to further examine applicability and scope of the instrument.'], ['CONCLUSIONS'], ['The KERI-D is the first observer-based rating instrument measuring specific relapse-prevention strategies in psychotherapy for depression. It may help to identify elements that prove effective in reducing relapse/recurrence in the long-term and thereby help to optimize effect duration of depression treatment.\"'], ['Case management (CM) programs are intended to improve care coordination for cancer patients. This quasi-experimental, controlled study evaluated whether such a program was effective in improving health-related quality of life and reducing the psychological distress of breast cancer patients.'], ['METHODS'], ['For the study, 126 patients with CM and 118 patients with treatment as usual (TAU) were surveyed at baseline, a 6-month follow-up and a 12-month follow-up. Comparisons of the two groups with regard to quality of life (Short Form-8, European Organization for Research and Treatment of Cancer-11; primary outcome) and psychological distress (Hospital Anxiety and Depression Scale, distress thermometer; secondary outcome) were conducted.'], ['RESULTS'], ['Univariate t-tests regarding the primary and secondary outcomes demonstrated improvements in the relevant outcomes at the 6-month and 12-month follow-ups for the intervention group as well as for the control group. An analysis of covariance revealed that the controls showed a higher level of physical quality of life at the 12-month follow-up than the other time points and no differences at 6 months after the baseline.'], ['CONCLUSIONS'], ['The tested CM model did not improve the quality of life or psychological well-being of the patients beyond treatment as usual. Possible reasons include that the treatment was already of high standards in the control group or that there are possibly different impacts than found in the literature regarding different forms of organization in CM. The need for and the tailoring of this CM model as well as the transfer of CM to other oncological indications remain to be clarified. Copyright © 2016 John Wiley & Sons, Ltd.\"'], [\"SCOPE OF REVIEW: This review will briefly summarize amylin physiology and pharmacology and then focus on amylin's role in food reward and the effects of amylin analogs in pre-clinical testing for anti-obesity drugs.\"], ['CONCLUSION: We propose here that the effects of amylin may be homeostatic and hedonic in nature.\"'], ['METHODS: We conducted a systematic review, collecting information on published and grey literature about T. saginata taeniosis and bovine cysticercosis from 27 countries/territories in West and Central Africa, published between January 1st, 1990 and December 31st, 2017.'], ['RESULTS: The literature search retrieved 1672 records, of which 51 and 45 were retained for a qualitative and quantitative synthesis, respectively. Non-specified human taeniosis cases were described for Nigeria, Cameroon, Senegal, Burkina Faso, Democratic Republic Congo, Guinea, and Ivory Coast (seven out of 27 countries/territories), while T. saginata taeniosis specifically was only reported for Cameroon. Most prevalence estimates for taeniosis ranged between 0-11%, while three studies from Nigeria reported prevalence estimates ranging between 23-50%. None of the studies included molecular confirmation of the causative species. The presence of bovine cysticercosis was reported for Benin, Burkina Faso, Cameroon, Central African Republic, Chad, Democratic Republic Congo, Ghana, Guinea, Ivory Coast, Mali, Niger, Nigeria, Senegal, and Tristan da Cunha (14 out of 27 countries/territories). Prevalence estimates ranged between 0-29%.'], ['CONCLUSIONS: Our systematic review has revealed that human taeniosis and bovine cysticercosis are seriously understudied in West and Central Africa. The high prevalence estimates of both conditions suggest an active dissemination of this parasite in the region, calling for a concerted One Health action from public health, veterinary health and food surveillance sectors.\"'], ['METHODS: A systematic review was conducted, that gathered published and grey literature, and official data concerning T. saginata taeniosis and bovine cysticercosis in central and western Asia and the Caucasus published between January 1st, 1990 and December 31st, 2018. Where no data were available for a country within this period, published data from 1985-1990 were also accessed.'], ['RESULTS: From 10,786 articles initially scanned, we retrieved 98 full-text articles from which data were extracted. In addition, two unpublished datasets were provided on the incidence of human taeniosis. Data for human taeniosis and bovine cysticercosis were found for all countries except Turkmenistan. Human taeniosis prevalence varied from undetected to over 5.3%, with regional variations. Where bovine cysticercosis was detected, prevalences varied from case reports to 25%.'], ['CONCLUSIONS: The public health burden of T. saginata is assumed to be small as the parasite is of low pathogenicity to humans. However, this review indicates that infection continues to be widespread and this may result in a large economic burden, due to the resources utilized in meat inspection and condemnation or processing with subsequent downgrading of infected carcasses.\"'], ['expectations regarding economic circumstances. However, including both these controls in a regression analysis indicates that the latter is the primary driving force. We also observe policy differences between male- and female-controlled groups, though these are substantially smaller than the mean individual differences - a natural consequence of the aggregation of individual.'], ['preferences into collective outcomes.\"'], ['high-achieving male peers benefits or harms them.\"'], ['Das Buch nimmt den Leser mit auf eine spannende Reise durch das Rohstoffleben eines Handys und zeigt, wie Alltagstechnik bewusster und umweltverträglicher genutzt werden kann. Durch seine fachdidaktische Einordnung und seine wissenschaftlich fundierten Inhalte ist das Buch ideal als Grundlage für Kurse an Schulen und Hochschulen geeignet. Die Rohstoff-Expedition: Entdecke, was in (d)einem Handy steckt! wurde im Wissenschaftsjahr 2012 – Zukunftsprojekt Erde vom Bundesministerium für Bildung und Forschung initiiert. Die Lern- und Arbeitsmaterialien wurden von Wissenschaftlerinnen und Wissenschaftlern des Wuppertal Instituts für Klima, Umwelt, Energie, des INFU – Institut für Umweltkommunikation der Leuphana Universität Lüneburg und dem Institute for Advanced Sustainability Studies (IASS) Potsdam entwickelt.\"'], ['great potential for the Internet for people with disabilities and suggest that moving more of them online holds the potential for considerable gains among this group.\"'], ['sented. Empirical studies clearly point out that there is no sufficient support available to disabled migrants.'], ['Furthermore, the perspective will be widened by introducing the current issue of flight with special regard to'], ['children. First scientific investigations on the above topic focus on the issues of language barrier and the'], ['need for professional support in case of a trauma. As a consequence of the refugee crisis, a stronger focus'], ['on the contexts of flight and further research in the area of the field of migration and disability is necessary.\"'], ['setzen. Es ist auch unklar, worauf ein solches Recht ein Recht wäre. Es soll in diesem Aufsatz deutlich werden, wieso dieses'], ['Recht zum Selbstbestimmungsrecht gehört. Das Recht auf Leben, so wird argumentiert, ist in bestimmten Situationen ein'], ['veräusserliches Recht. Es würde dem Sinn von Rechten widersprechen, wenn das nicht so wäre. Es soll darüber hinaus deutlich werden, dass es sich dabei um ein Recht handelt, dessen Ausübung keine Pflichten, sondern bloss Erlaubnisse erzeugt\"'], ['lead to the conclusion that measurements are cross-nationally incomparable but have been criticized for being overly strict. In the current study, we present an alternative Bayesian approach that assesses whether measurements are approximately (rather than exactly)'], ['equivalent. This approach allows small variations in measurement parameters across groups.'], ['Taking a multiple group confirmatory factor analysis framework as a starting point, this study applies approximate and exact equivalence tests to the anti-immigration attitudes scale that was implemented in the European Social Survey (ESS). Measurement equivalence is tested across the full set of 271,220 individuals in 35 ESS countries over six rounds. The results of the exact and the approximate approaches are quite different. Approximate scalar measurement equivalence is established in all ESS rounds, thus allowing researchers to meaningfully compare these mean scores and their relationships with other theoretical constructs of interest. The exact approach, however, eventually proves to be overly strict and leads to the conclusion that measurements are incomparable for a large number of countries and time points.\"'], ['Seit der Unterzeichnung des Freizügigkeitsabkommens mit den EU- und Efta-Staaten im Jahr 1999 ist die Immigration aus diesem Raum in die Schweiz stark angestiegen. Dies löste eine teilweise sehr heftige wirtschafts- und gesellschaftspolitische Debatte über die möglichen Auswirkungen von erhöhter Immigration aus. Eine zentrale Rolle in dieser Debatte spielt die Arbeitsmarktintegration von Immigranten. Können diese auf dem Arbeitsmarkt nachhaltig Fuss fassen, erleichtert das ihre gesellschaftliche Integration und stärkt die Sozialwerke. Die Autoren haben deshalb in einer Studie für das Staatssekretariat für Wirtschaft (Seco) den Arbeitsmarkterfolg von Immigranten in der Schweiz analysiert und mit demjenigen von Schweizern verglichen. Für die Analyse wurden verschiedene Register- und Umfragedaten miteinander verknüpft .\"'], ['Most previous studies have focused on effects of urban area as a general measure of urbanization, and on few or single taxa. Here, we analyzed the impacts of the different components of urban sprawl (i.e., scattered and widespread urban growth) on species richness of a variety of taxonomic groups covering mosses, vascular plants, gastropods, butterflies, and birds at the habitat and landscape scales. Besides urban area, we considered the average age,imperviousness, and dispersion degree of urban area, along with human population density, to disentangle the effects of the different components of urban sprawl on biodiversity. The study was carried out in the Swiss Plateau that has undergone substantial urban sprawl in recent decades.'], ['Vascular plants and birds showed the strongest responses to urban sprawl, especially at the landscape scale, with non-native and ruderal plants proliferating and common generalist birds increasing at the expense of specialist birds as urban sprawl grew. Overall, urban area had the greatest contribution on such impacts, but additional effects of urban dispersion (i.e., increase of non-native plants) and human population density (i.e., increases of ruderal plants and common generalist birds) were found. Our findings support the hypothesis that negative impacts of urban sprawl on biodiversity can be reduced by compacting urban growth while still avoiding the formation of very densely populated areas.\"'], ['These 1: Die Zersiedelung gilt als das grösste Versagen der Raumplanung.'], ['These 2: Der Föderalismus und die direkte Demokratie sind nicht an der Zersiedelung schuld.'], ['These 3: Der schweizerische Föderalismus und die direkte Demokratie eröffnen Spielräume – für gute, aber auch für schlechte Raumplanung.'], ['These 4: Starke wirtschaftliche Triebkräfte erschweren den Vollzug der Raumplanung und sind mitverantwortlich für die Zersiedelung.'], ['These 5: Beschlossene und noch bevorstehende Reformen der Raumplanung auf Bundes- bzw. Kantonsebene eröffnen Chancen für die wirksamere Bekämpfung der Zersiedelung.\"'], ['Wie sollen Führungsverantwortliche mit diesen Herausforderungen umgehen? Markus Huppenbauer vertritt einen pragmatischen und \\xadlibera\\xadlen Ansatz: Weder ethischer Aktivismus noch \\xaddefensive Reaktionen sind angesagt. Es gilt vielmehr, die ethischen Herausforderungen in der Wirtschaft mit Besonnenheit und \\xadVernunft anzugehen. Das Buch vermittelt die spezifischen Kompetenzen, um ethisch fundierte Entscheidungen zu treffen. Ein besonderer Fokus liegt auf Fragen der Unternehmensführung und Führungsverantwortung.'], ['Moralische Normen und Werte sind auch in der Wirtschaft essentiell, aber sie lassen mehr Spielräume zu, als man gemeinhin meint. Staatlich-rechtliche Regulierungen sind manchmal nötig, besser aber ist die Selbstverpflichtung der wirtschaftlichen Akteure.\"'], ['Methods and Results: Here, we studied CH4 dynamics in a permanent grassland exposed to elevated CO2 for 14 years. Soil-atmosphere fluxes of CH4 were measured using large static chambers, over a period of four years. The ecosystem was a net sink for atmospheric CH4 for most of the time except summer to fall when net CH4 emissions occurred. We did not detect any elevated CO2 effects on CH4 fluxes, but emissions were difficult to quantify due to their discontinuous nature, most likely because of ebullition from the saturated zone. Potential methanotrophic activity, determined by incubation of fresh sieved soil under standardized conditions, also did not reveal any effect of the CO2 treatment. Finally, we determined the spatial micro-distribution of methanotrophic activity at less than 5× atmospheric (10 ppm) and elevated (10000 ppm) CH4 concentrations, using a novel auto-radiographic technique. These analyses indicated that domains of net CH4 assimilation were distributed throughout the analyzed top 15 cm of soils, with no dependence on CH4 concentration or CO2 treatment.'], ['Conclusions: Our investigations suggest that elevated CO2 exerts no or only minor effects on CH4 fluxes in the type of ecosystem we studied, at least as long as soil moisture differences are small or absent as was the case here. The autoradiographic analyses further indicate that the spatial niche of CH4 oxidation does not shift in response to CO2 enrichment or CH4 concentration, and that the same type of methanotrophs may oxidize CH4 from atmospheric and soil-internal sources.\"'], ['Objectives We introduce an approach that combines movement-informed simulated trajectories with an environment-informed estimate of the trajectories’ plausibility to derive connectivity. Using the example of bar-headed geese we estimated migratory connectivity at a landscape level throughout the annual cycle in their native range.'], ['Methods We used tracking data of bar-headed geese to develop a multi-state movement model and to estimate temporally explicit habitat suitability within the species’ range. We simulated migratory movements between range fragments, and calculated a measure we called route viability. The results are compared to expectations derived from published literature.'], ['Results Simulated migrations matched empirical trajectories in key characteristics such as stopover duration. The viability of the simulated trajectories was similar to that of the empirical trajectories. We found that, overall, the migratory connectivity was higher within the breeding than in wintering areas, corroborating previous findings for this species.'], ['Conclusions We show how empirical tracking data and environmental information can be fused for meaningful predictions of animal movements throughout the year and even outside the spatial range of the available data. Beyond predicting migratory connectivity, our framework will prove useful for modelling ecological processes facilitated by animal movement, such as seed dispersal or disease ecology.\"'], ['2. The aim of this special issue is to highlight the importance of the river network on structuring biodiversity, particularly through metacommunity dynamics and associated dispersal processes.'], ['3. The issue covers a wide range of topics, including disease spread, nutrient uptake, trophic dynamics, effects of anthropogenic stressors and the joint roles of dispersal and environmental filtering. Contributions employ a broad range of approaches, including field and laboratory experiments, modelling, population genetics and conceptual synthesis.'], ['4. Although these studies represent just a sample of the research that is being per- formed on biodiversity and metacommunity dynamics in river networks, several important findings have emerged; a common theme being that the structure of the network and spatial dynamics clearly influence the dynamics of populations and communities, and their functions. By taking a broad taxonomic focus (from diatoms and protists to fish), and spanning a large geographic gradient (from the tropics to the subarctic), this special issue provides a broad look at the dynamics that occur in river networks relating to their unique makeup. We hope that this selection of studies spurs additional research on these interesting, globally impor- tant, yet severely threatened ecological systems.\"'], ['2. We studied how alpha diversity, beta diversity and total biomass of ciliate protist assemblages found on sandy bottoms and submerged rocks differed in 13 geothermally heated streams in Iceland whose mean temperatures range from 5 to 20 °C. We recorded number of operational taxonomic units (OTUs) and measured the size of cells in ciliate assemblages from both substrata.'], ['3. Effects of temperature on natural ciliate assemblages were substratum dependent. On rock surfaces, both total ciliate biomass and alpha diversity declined with increasing temperature, and beta diversity increased with increasing temperature difference due to OTU nestedness (assemblages from warm streams being composed chiefly of subsets of the OTUs found in colder streams). In sandy substrata, however, ciliate assemblage composition was independent of temperature.'], ['4. Substratum-specific responses may be due to differences in mechanical disturbance, nutrient availability or exposure to invertebrate grazers. Rock-surface assemblages may be more exposed to the flow and retain less nutrient than those of sandy substratum; thus, they may be more strongly resource limited and more responsive to direct effects of temperature on metabolism. Alternatively, rock-surface assemblages may be more exposed to grazing by invertebrates, which intensifies with temperature.'], ['5. Our study highlights the need to account for environmental context such as substratum type to fully understand the effect of temperature on microbial assemblages in streams. Future increases in global temperatures may affect fresh waters differently depending on their prevalent substratum. Those dominated by hard substrata may have their ciliate assemblages, and thus, food-web structures and ecosystem functioning more strongly affected by warming relative to systems dominated by soft substrata.\"'], ['1. Current approaches to conservation may be inadequate to maintain ecosystem integrity because they are mostly based on rarity status of organisms rather than functional signifi- cance. Alternatively, approaches focusing on the protection of ecological networks lead to more appropriate conservation targets to maintain ecosystem integrity.'], ['2. We propose that a shift in focus from species to interaction networks is necessary to achieve pressing conservation management and restoration ecology goals of conserving biodi- versity, ecosystem processes and ultimately landscape-scale delivery of ecosystem services.'], ['3. Using topical examples from the literature, we discuss historical and conceptual advances, current challenges and ways to move forward. We also propose a road map to ecological net- work conservation, providing a novel ready to use approach to identify clear conservation targets with flexible data requirements.'], ['4. Synthesis and applications. Integration of how environmental and spatial constraints affect the nature and strength of local interaction networks will improve our ability to predict their response to change and to conserve them. This will better protect species, ecosystem pro- cesses, and the resulting ecosystem services we depend on.\"'], ['Aims: Our primary objectives were to (1) assess whether landscape potential for CAP as a predictor improved species distribution models (SDMs) projections and (2) quantify the impact of CAP on the microclimate experienced by alpine plants compared to the macroclimate.'], ['Methods: We selected the Maritime Alps as our study area, located on the French–Italian border, and its rare endemic plant, Saxifraga florulenta, as model taxon. We generated a spatial layer in GIS (Geographic Information System) that reflected the potential of the landscape for CAP and ran five SDM algorithms with and without CAP layer as a predictor. Second, we recorded the microclimate plants experience with temperature loggers.'], ['Results: CAP as a predictor decreased the omission error of SDMs, mostly at low and mid elevations, where topography may buffer extreme temperatures, resulting in a more stable microclimate compared to macroclimate.'], ['Conclusions: We have shown that plants in an alpine landscape may be less exposed to climate warming than predicted by macroclimate. Topo-climatic GIS layers for SDM projections in mountain environments should integrate such physical mechanisms as CAP.\"'], ['Obtained results indicated strong influences of climatological drivers on ecosystem service trends in Switzerland. We identified equal contributions of all three climatological drivers on trends of carbon dioxide regulation and soil erosion prevention, while air quality regulation was more strongly influenced by temperature. Additionally, our results showed that climatological and non‐climatological drivers affected ecosystem services both negatively and positively, depending on the regions (in particular lower and higher altitudinal areas), drivers, and services assessed.'], ['Our findings highlight stronger effects of climatological compared to non‐climatological drivers on ecosystem service change in Switzerland. Furthermore, drivers of ecosystem change display a spatial heterogeneity in their influence on ecosystem service trends. We propose an approach building on an additive model to disentangle the effect of climatological and non‐climatological drivers on ecosystem service trends. Such analyses should be extended in the future to ecosystem service flow and demand to complete ecosystem service assessments and to demonstrate and communicate more clearly the benefits of ecosystem services for human well‐being.\"'], ['Our results demonstrate the strength of RS for systematic and regular spatio-temporal ES monitoring and contribute insights to the large potential of RS, which will be extended with future Earth observation missions. Derived spatially explicit ES information will facilitate decision-making in landscape planning and conservation and will allow examining progress towards environmental policies.\"'], ['Obtained results indicated strong influences of climatological drivers on ecosystem service trends in Switzerland. We identified equal contributions of all three climatological drivers on trends of carbon dioxide regulation and soil erosion prevention, while air quality regulation was more strongly influenced by temperature. Additionally, our results showed that climatological and non‐climatological drivers affected ecosystem services both negatively and positively, depending on the regions (in particular lower and higher altitudinal areas), drivers, and services assessed.'], ['Our findings highlight stronger effects of climatological compared to non‐climatological drivers on ecosystem service change in Switzerland. Furthermore, drivers of ecosystem change display a spatial heterogeneity in their influence on ecosystem service trends. We propose an approach building on an additive model to disentangle the effect of climatological and non‐climatological drivers on ecosystem service trends. Such analyses should be extended in the future to ecosystem service flow and demand to complete ecosystem service assessments and to demonstrate and communicate more clearly the benefits of ecosystem services for human well‐being.\"'], ['2. We first investigate sex-specific body size plasticity in Sepsis punctum and Sepsis neocynipsea as two independent cases of intraspecific SSD reversals in sepsid flies. In both species, directional variation in SSD between populations is driven by stronger sexual selection on male size. Using controlled laboratory breeding, we find evidence for sex-specific plasticity and increased condition dependence of male size in populations with male-biased SSD, but not of female size in populations with female-biased SSD.'], ['3. To extend the comparative scope, we next estimate sex-specific body size plasticity in eight additional fly species that differ in the direction of SSD under laboratory conditions. In all species with male-biased SSD we find males to be the more plastic sex, while this was only rarely the case in species with female-biased SSD, thus suggesting a more general trend in Diptera.'], ['4. To examine the generality of this pattern in holometabolous insects, we combine our data with data from the literature in a meta-analysis. Again, male body size tends to be more plastic than female size when males are the larger sex, though female size is now also generally more plastic when females are larger.'], ['5. Our findings indicate that primarily selection on size, rather than the reproductive role per se, drives the evolution of sex-specific body size plasticity. However, sepsid flies, and possibly Diptera in general, show a clear sexual asymmetry with greater male than female plasticity related to SSD, likely driven by strong sexual selection on males. Although further research controlling for phylogenetic and ecological confounding effects is needed, our findings are congruent with theory in suggesting that condition dependence plays a pivotal role in the evolution of sexual size dimorphism.\"'], ['Methods: Starting with a simple LM, basic features of model fitting and the subsequent analysis of variance (ANOVA) for significance tests are summarized. From this, more complex models are developed. We use the statistical software R for model fitting and to demonstrate similarities and complementarities between LMs and MMs. The formation of contrasts and the use of error (LMs) or random-effects (MMs) terms to account for hierarchical data structure in ANOVAs are explained.'], ['Important Findings: Data from biodiversity experiments can be analyzed at the level of entire plant communities (plots) and plant individuals. The basic explanatory term is species composition, which can be divided into contrasts in many ways depending on specific biological hypotheses. Typically, these contrasts code for aspects of species richness or the presence of particular species. For significance tests in ANOVAs, contrast terms generally are compared with remaining variation of the explanatory terms from which they have been ‘carved out’. Once a final model has been selected, parameters (e.g. means or slopes for fixed-effects terms and variance components for error or random-effects terms) can be estimated to indicate the direction and size of effects.\"'], ['Methods: Geomorphometric terrain analyses were carried out at a spatial resolution of 5×5 m. Soil samples of different depth increments and data on tree height were collected from a total of 566 plots (667 m2 each). The soils were analyzed for carbon (soil organic carbon [SOC]), nitrogen, acidity, cation exchange capacity (CEC), exchangeable cations and base saturation as soil fertility attributes. All plots were classified into geomorphological units. Analyses of variance and linear regressions were applied to all terrain, soil fertility and tree growth attributes.'], ['Important Findings: In general, young and shallow soils and relatively small differences in stable soil properties suggest that soil erosion has truncated the soils to a large extent over the whole area of the experiment. This explains the concurrently increasing CEC and SOC stocks downslope, in hollows and in valleys. However, colluvial, carbon-rich sediments are missing widely due to the convexity of the footslopes caused by uplift and removal of eroded sediments by adjacent waterways. The results showed that soil fertility is mainly influenced by topography. Monte–Carlo flow accumulation (MCCA), curvature, slope and aspect significantly affected soil fertility. Furthermore, soil fertility was affected by the different geomorphological positions on the experimental sites with ridge and spur positions showing lower exchangeable base cation contents, especially potassium (K), due to leaching. This geomorphological effect of soil fertility is most pronounced in the topsoil and decreases when considering the subsoil down to 50cm depth. Few soil fertility attributes affect tree height after 1–2 years of growth, among which C stocks proved to be most important while pHKCl and CEC only played minor roles. Nevertheless, soil acidity and a high proportion of Al on the exchange complex affected tree height even after only 1–2 years growth. Hence, our study showed that forest nutrition is coupled to a recycling of litter nutrients, and does not only depend on subsequent supply of nutrients from the mineral soil. Besides soil fertility, topography affected tree height. We found that especially MCCA as indicator of water availability affected tree growth at small-scale, as well as aspect. Overall, our synthesis on the interrelation between fertility, topography and tree growth in a subtropical forest ecosystem in SE China showed that topographic heterogeneity lead to ecological gradients across geomorphological positions. In this respect, small-scale soil–plant interactions in a young forest can serve as a driver for the future development of vegetation and biodiversity control on soil fertility. In addition, it shows that terrain attributes should be accounted for in ecological research.\"'], ['\"'], ['In this study, we disentangled the roles of temperature, food availability and population density in shaping short‐ and long‐term population dynamics of the African striped mouse, a small rodent inhabiting a semidesert with high intra‐ and interannual variation in environmental conditions.'], ['We parameterized a female‐only stage‐structured matrix population model with vital rates depending on temperature, food availability and population density, using monthly mark–recapture data from 1609 mice trapped over 9 years (2005–2014). We then applied perturbation analyses to determine relative strengths and demographic pathways of these drivers in affecting population dynamics. Furthermore, we used stochastic population projections to gain insights into how three different climate change scenarios might affect size, structure and persistence of this population.'], ['We identified food availability, acting through reproduction, as the main driver of changes in both short‐ and long‐term population dynamics. This mechanism was mediated by strong density feedbacks, which stabilized the population after high peaks and allowed it to recover from detrimental crashes. Density dependence thus buffered the population against environmental change, and even adverse climate change scenarios were predicted to have little effect on population persistence (extinction risk over 100 years <5%) despite leading to overall lower abundances.'], ['Explicitly linking environment–demography relationships to population dynamics allowed us to accurately capture past population dynamics. It further enabled establishing the roles and relative importances of extrinsic and intrinsic environmental drivers, and we conclude that doing this is essential when investigating impacts of climate change on wildlife populations.\"'], ['We identified two remarkably distinct behavioral types: bears that regularly visited the dump and remained sedentary year-round, and bears that never visited the dump and migrated 165.7 ± 20.1 km (round-trip mean cumulative distance ± SE) prior to hibernation to search for food. We demonstrated that during migratory trips, bears moved more rapidly and were less selective in habitat choice than during the sedentary phase; during the migration phase forest cover was the only important environmental characteristic. Our results thus reinforce the growing evidence that animals’ use of the landscape largely changes according to movement phase. Our study shows that anthropogenic food resources can influence food habits, which can have cascading effects on movement patterns and hence habitat selection, ultimately resulting in the establishment of distinct behavioral types within a population. Identification and consideration of these behavioral types is thus fundamental for the correct implementation of evidence-based conservation strategies at the population level.\"'], ['Data from wild populations, however, are typically restricted both temporally and spatially due to limited monitoring resources and intrinsic ecological heterogeneity – limitations that may affect the detectability of generic early warning signals, as they add additional stochasticity to population abundance estimates. Consequently, spatial and temporal subsampling may serve either to muffle or magnify early warning signals.'], ['Using a combination of theoretical models and analysis of experimental data, we evaluate the extent to which statistical warning signs are robust to data corruption.\"'], ['The aim of this study was to predict habitat quality of protected dry grasslands in Switzerland. Using a nation-wide in-situ vegetation data set with plot-based species lists, we derived six habitat quality indicators (management tolerance, light availability, nutrient content, moisture content and species richness). We then tested how well satellite-based phenology metrics, in combination with environmental and climate data, can predict these dry grassland habitat quality indicators. We expected that the seasonal pattern of vegetation activity, based on the Normalized Difference Vegetation Index (NDVI), would represent local productivity and management patterns, two crucial indicators of dry grassland habitat quality. Linear regression analysis was conducted to assess the relative importance and ecological relationship of different NDVI metrics and other environmental and climate predictors for habitat quality. Variance partitioning was applied to assess model contributions of the three variable groups which represent different data sources for productivity and management.'], ['Accuracies for the habitat quality prediction models ranged between 34% and 57% and significant correlations with multiple NDVI metrics were found. Including NDVI phenology improved all models by 7–12%. Single contributions of NDVI phenology were highest for management tolerance and nutrient content. However, we found high variation of contributions between management types. NDVI metrics were highly informative for the habitat qualities of abandoned sites, but grazing and mowing reduced or even cancelled their predictive power. Moreover, our results demonstrate the limitation of single-date NDVI values in predicting habitat quality of dry grasslands, in particular pastures and meadows. For monitoring applications of dry grasslands, we propose using a combination of NDVI metrics, as our results showed that they greatly improve prediction results of essential habitat qualities. The Landsat legacy dataset facilitates the assessment of habitat changes during past decades and can be complemented in the future with higher resolution data, such as Sentinel-2, to increase the temporal and spatial resolution so analyses are more appropriate for the typically limited size of dry grassland habitat sites in Switzerland.\"'], ['Obtained results indicated strong influences of climatological drivers on ecosystem service trends in Switzerland. We identified equal contributions of all three climatological drivers on trends of carbon dioxide regulation and soil erosion prevention, while air quality regulation was more strongly influenced by temperature. Additionally, our results showed that climatological and non‐climatological drivers affected ecosystem services both negatively and positively, depending on the regions (in particular lower and higher altitudinal areas), drivers, and services assessed.'], ['Our findings highlight stronger effects of climatological compared to non‐climatological drivers on ecosystem service change in Switzerland. Furthermore, drivers of ecosystem change display a spatial heterogeneity in their influence on ecosystem service trends. We propose an approach building on an additive model to disentangle the effect of climatological and non‐climatological drivers on ecosystem service trends. Such analyses should be extended in the future to ecosystem service flow and demand to complete ecosystem service assessments and to demonstrate and communicate more clearly the benefits of ecosystem services for human well‐being.\"'], ['In both ecosystems, SIF was found to be more affected by environmental conditions than GPP. Annual cycles for GPP and SIF differed at the mixed forest due in part to the influence of the different footprint size of the two independent measurements. Diurnal cycles in GPP and SIF corresponded well under unstressed conditions and followed the incoming photosynthetic photon flux density (PPFD). However, depressions in SIF were found at both sites either at midday or in the afternoon during the growing season. At the cropland site, reductions in SIF occurred at high PPFD (PPFD\\u202f>\\u202f1470\\u202fμmol\\u202fm−2\\u202fs−1, R2\\u202f=\\u202f0.62) and high VPD (VPD\\u202f>\\u202f1590\\u202fPa, R2\\u202f=\\u202f0.35). Whereas at the forest site, reductions in SIF were linked to high VPD (VPD\\u202f>\\u202f1250\\u202fPa, R2\\u202f=\\u202f0.25), but not to high PPFD (R2\\u202f=\\u202f0.84). The depression in SIF was also associated with an increase in non-photochemical quenching, as indicated by the photochemical reflectance index (R2\\u202f=\\u202f0.78), thus showing the complementarity between SIF and non-photochemical quenching as different energy pathways. Our results show the importance of characterizing the influence of different environmental conditions on SIF-GPP relationships for specific ecosystems to reliably estimate GPP from remote sensing measurements.\"'], ['We conducted two complementing glasshouse experiments. In a “monoculture experiment,” we supplied nitrogen as ammonium, nitrate or glycine and tested the growth response of three tree species associated with different root symbionts: one associated with ectomycorrhizal fungi, one associated with arbuscular mycorrhizal fungi, and the third associated with both arbuscular mycorrhizal fungi and N‐fixing bacteria. In an “intermixed experiment,” we grew the tree species at three richness levels (one, two or three species) in soil supplied with a mix of the three nitrogen forms or no added nitrogen, and with or without soil microbes.'], ['The monoculture experiment showed that in the presence of soil microbes, the ectomycorrhizal plant species grew best when supplied with glycine and the two arbuscular mycorrhizal plant species grew best with either nitrate or ammonium addition. When the different forms of nitrogen were mixed in the intermixed experiment, plant mixtures produced more biomass than plant monocultures in the presence of soil microbes, with positive complementarity effects indicating microbe‐mediated plant resource partitioning.'], ['Our results suggest that co‐existing tree species can partition soil nitrogen when grown with their particular mycorrhizal symbionts or other soil microbes, resulting in positive biodiversity effects in complex resource environments.\"'], ['among populations. However, it has rarely been tested whether such estimates are useful proxies for genome-wide'], ['patterns of variation and differentiation. Here, we compared microsatellite variation with genome-wide single'], ['nucleotide polymorphisms (SNPs) to assess and quantify potential marker-specific biases and derive recommendations for future studies. Overall, we genotyped 180 Arabidopsis halleri individuals from nine populations using 20 microsatellite markers. Twelve of these markers were originally developed for Arabidopsis thaliana (cross-species markers) and eight for A. halleri (species-specific markers). We further characterized 2 million SNPs across the genome with a pooled whole-genome re-sequencing approach (Pool-Seq).'], ['Results: Our analyses revealed that estimates of genetic diversity and differentiation derived from cross-species and'], ['species-specific microsatellites differed substantially and that expected microsatellite heterozygosity (SSR-He) was not significantly correlated with genome-wide SNP diversity estimates (SNP-He and θWatterson) in A. halleri. Instead, microsatellite allelic richness (Ar) was a better proxy for genome-wide SNP diversity. Estimates of genetic differentiation among populations (FST) based on both marker types were correlated, but microsatellite-based estimates were significantly larger than those from SNPs. Possible causes include the limited number of microsatellite markers used, marker ascertainment bias, as well as the high varianc microsatellite-derived estimates. In contrast, genomewide SNP data provided unbiased estimates of genetic diversity independent of whether genome- or only exome-wide SNPs were used. Further, we inferred that a few thousand random SNPs are sufficient to reliably estimate genome-wide diversity and to distinguish among populations differing in genetic variation.'], ['Conclusions: We recommend that future analyses of genetic diversity within and differentiation among populations'], ['use randomly selected high-throughput sequencing-based SNP data to draw conclusions on genome-wide diversity'], ['patterns. In species comparable to A. halleri, a few thousand SNPs are sufficient to achieve this goal.\"'], ['Aims: We assess the degree of genetic diversity among dipterocarp seedlings used for enrichment planting of selectively logged forests in Sabah, Malaysia, and compare it with diversity in naturally regenerating seedlings.'], ['Methods: We sampled young leaf tissues from seedlings of Shorea leprosula and Parashorea malaanonan for DNA genotyping, using microsatellite markers.'], ['Results: The levels of genetic diversity (expected heterozygosity and rarefied allelic richness) of naturally regenerating seedlings were statistically indistinguishable among unlogged, once logged and repeatedly logged forest areas. Enrichment-planted seedlings of P. malaanonan exhibited similar levels of genetic diversity to naturally regenerating seedlings whereas those of S. leprosula had significantly lower genetic diversity than natural seedlings. Interestingly, reduction of genetic variation was consistently observed in single-species plots relative to mixed-species plots among enrichment-planted seedlings.'], ['Conclusions: There was no reduction of genetic variation in naturally regenerating dipterocarp seedlings in areas of selective logging. However, genetic variation of enrichment-planted seedlings was lower in single-species plots relative to mixed-species plots. This suggests that enrichment-planting strategies should adopt diverse mixtures that should promote levels of both species richness and genetic diversity within species.\"'], ['for violent extremism among an ethnically diverse sample of Swiss adolescents.'], ['This study explores two claims derived from general strain theory:'], ['(1) Exposure to collective strain is associated with higher support for violent'], ['extremism and (2) the effect of collective strain is conditional on'], ['perceptions of moral and legal constraints. Methods: This study uses data'], ['from two waves of the Zurich Project on the Social Development of Children'], ['and Youth. We use ordinary least squares procedures to regress'], ['violent extremist attitudes at age 17 on strain, moral and legal constraints,'], ['and control variables measured at ages 15 to 17. Conditional effects were'], ['examined using an interaction term for collective strain and moral neutralization'], ['and legal cynicism, respectively. Results: The results show that collective'], ['strain does not have a direct effect on violent extremist attitudes'], ['once other variables are controlled. However, the degree to which individuals'], ['neutralize moral and legal constraints amplifies the impact of collective'], ['strain on violent extremist attitudes. Conclusions: This study shows that'], ['those who already espouse justifications for violence and rule breaking are'], ['more vulnerable to extremist violent pathways, particularly when exposed'], ['to collective social strife, conflict, and repression.'], ['once other variables are controlled. However, the degree to which individuals'], ['neutralize moral and legal constraints amplifies the impact of collective'], ['strain on violent extremist attitudes. Conclusions: This study shows that'], ['those who already espouse justifications for violence and rule breaking are'], ['more vulnerable to extremist violent pathways, particularly when exposed'], ['to collective social strife, conflict, and repression.\"'], ['METHOD: One hundred and forty-seven men and women (47 with PTSD, 49 trauma-exposed controls, and 51 non-trauma controls) completed an emotional memory task where they looked at negative, neutral and positive images from the International Affective Picture System (IAPS). Delayed recall and an intrusive memory diary were completed two days later.'], ['RESULTS: Women displayed greater recall, and reported more negative intrusive memories than men. A gender x group interaction effect showed that both women with PTSD and trauma-exposed women reported more intrusive memories than women without trauma exposure or men.'], ['CONCLUSION: This study provided preliminary evidence of sex differences in intrusive memories in those with PTSD as well as those with a history of trauma exposure. Future research should include measures of sex hormones to further examine sex differences on memory consolidation in the context of trauma exposure and PTSD.\"'], ['In der vorliegenden Studie wurden Bundeswehrsoldaten vor und unmittelbar nach einem Auslandseinsatz in Afghanistan im Hinblick auf Wertorientierungen, moralische Verletzungen, posttraumatische Symptomatik sowie Depressivität psychometrisch getestet und mit einer Kontrollgruppe ohne Auslandseinsatz verglichen.'], ['In der Einsatzgruppe veränderte sich das umfassende Wertebewusstsein (Wert\\xade\\xadindex) signifikant weniger als in der Kontroll\\xadgruppe. Dieser Werteindex sowie auch die Werte Konformität und Tradition waren signifikant mit der Entwicklung von Depressivität in der Einsatzgruppe \\xadassoziiert.'], ['Wertorientierungen sollten zukünftig in der Einsatzvorbereitung von Soldaten, aber auch in der Therapie einsatzbezogener psychischer Erkrankungen vermehrt berücksichtigt werden. = Abstract : Depression and Value \\xadOrientation in the Course of Military \\xadOperations Abroad'], ['Depression and other psychic disorders are a common side effect of military missions abroad. A relatively new field of research investigates personal value orientations and moral injuries and inquires into the role they play in the onset of psycholo\\xadgical problems following involvement in military operations.'], ['In the present study, German Bundeswehr soldiers were tested psychometrically before and immediately after a mission in Afghanistan for value orientations, moral injuries, posttraumatic symptoms and depression. They were compared with a control group that had not undergone a military assignment abroad.'], ['Value awareness (value index) changed significantly less in the task force than in the control group. Both this value index and the values «conformity« and «tradition« were significantly associated with the onset of depression in the task force.'], ['In future, value orientations should be given closer attention both in the preparation of soldiers for deployment and in therapy for psychic disorders associated with deployment.\"']]\n"
     ]
    },
    {
     "data": {
      "text/plain": "172"
     },
     "execution_count": 13,
     "metadata": {},
     "output_type": "execute_result"
    }
   ],
   "source": [
    "buggy_rows = [i for i in rows if len(i) != 7]\n",
    "\n",
    "print([i for i in buggy_rows])\n",
    "\n",
    "len(buggy_rows)"
   ],
   "metadata": {
    "collapsed": false
   }
  },
  {
   "cell_type": "markdown",
   "source": [
    "172 buggy rows! Quickly scanning the output, they all (or at least mostly) seem to be just abstracts, probably those that have a newline in them.\n",
    "\n",
    "Let's try a quick and dirty way of checking that it's not also a col break issue by checking the lengths of each buggy row."
   ],
   "metadata": {
    "collapsed": false
   }
  },
  {
   "cell_type": "code",
   "execution_count": 15,
   "outputs": [
    {
     "name": "stdout",
     "output_type": "stream",
     "text": [
      "1\n",
      "1\n"
     ]
    }
   ],
   "source": [
    "buggy_row_lens = [len(i) for i in buggy_rows]\n",
    "\n",
    "print(min(buggy_row_lens))\n",
    "print(max(buggy_row_lens))"
   ],
   "metadata": {
    "collapsed": false
   }
  },
  {
   "cell_type": "markdown",
   "source": [
    "Yay. Indeed it does seem to be a newline issue. Now the question is where the rest of their corresponding data (tag, author, title, etc.) went in my list of rows.\n",
    "\n",
    "I will grab one buggy abstract and find its title in Numbers and look for that in my list."
   ],
   "metadata": {
    "collapsed": false
   }
  },
  {
   "cell_type": "code",
   "execution_count": 16,
   "outputs": [
    {
     "data": {
      "text/plain": "['Results While microbial richness was marginally affected, we found pronounced cropping effects on community composition, which were specific for the respective microbiomes. Soil bacterial communities were primarily structured by tillage, whereas soil fungal communities responded mainly to management type with additional effects by tillage. In roots, management type was also the driving factor for bacteria but not for fungi, which were generally determined by changes in tillage intensity. To quantify an “effect size” for microbiota manipulation, we found that about 10% of variation in microbial communities was explained by the tested cropping practices. Cropping sensitive microbes were taxonomically diverse, and they responded in guilds of taxa to the specific practices. These microbes also included frequent community members or members co-occurring with many other microbes in the community, suggesting that cropping practices may allow manipulation of influential community members.']"
     },
     "execution_count": 16,
     "metadata": {},
     "output_type": "execute_result"
    }
   ],
   "source": [
    "buggy_rows[0]"
   ],
   "metadata": {
    "collapsed": false
   }
  },
  {
   "cell_type": "markdown",
   "source": [
    "The title for this abstract is \"Cropping practices manipulate abundance patterns of root and soil microbiome members paving the way to smart farming. Microbiome, 6(1):14.\", and it's row 21 in Numbers.\n",
    "\n",
    "This is getting inefficient. I think I should add an ID to each row with an abstract in the original data so I can map faster. Once I fix this issue, I should convert my list of lists into a dict."
   ],
   "metadata": {
    "collapsed": false
   }
  },
  {
   "cell_type": "code",
   "execution_count": 41,
   "outputs": [
    {
     "data": {
      "text/plain": "8"
     },
     "execution_count": 41,
     "metadata": {},
     "output_type": "execute_result"
    }
   ],
   "source": [
    "with open(\"data/robin_data.tsv\") as f:\n",
    "    rows = []\n",
    "    row_id = 0\n",
    "\n",
    "    for line in f:\n",
    "        line = line.rstrip(\"\\n\")\n",
    "        row = line.split(\"\\t\")\n",
    "\n",
    "        # Only those with abstracts\n",
    "        if row[-1] != \"\" and row[-1] != \"\\\"\" and detect(row[-1]) == \"en\":\n",
    "            row_id += 1\n",
    "            row.insert(0, row_id)\n",
    "            rows.append(row)\n",
    "\n",
    "len(rows[0])"
   ],
   "metadata": {
    "collapsed": false
   }
  },
  {
   "cell_type": "markdown",
   "source": [
    "No idea where the header row went, but the IDs are correct. Now let's re-code the `buggy_rows` bit, since the lengths of the rows are longer now."
   ],
   "metadata": {
    "collapsed": false
   }
  },
  {
   "cell_type": "code",
   "execution_count": 40,
   "outputs": [
    {
     "data": {
      "text/plain": "149"
     },
     "execution_count": 40,
     "metadata": {},
     "output_type": "execute_result"
    }
   ],
   "source": [
    "buggy_rows = [i for i in rows if len(i) != 8]\n",
    "\n",
    "print([i for i in buggy_rows])\n",
    "\n",
    "len(buggy_rows)"
   ],
   "metadata": {
    "collapsed": false
   }
  },
  {
   "cell_type": "markdown",
   "source": [
    "WAIT WHY IS IT DIFFERENT NOW\n",
    "\n",
    "Whatever. I have fewer buggy rows now so I guess that's good. Maybe I counted wrong earlier when I used `try/except` and didn't specify EN. Will check later if I remember/feel like it/have time."
   ],
   "metadata": {
    "collapsed": false
   }
  },
  {
   "cell_type": "code",
   "execution_count": 27,
   "outputs": [
    {
     "data": {
      "text/plain": "[14,\n 'Results While microbial richness was marginally affected, we found pronounced cropping effects on community composition, which were specific for the respective microbiomes. Soil bacterial communities were primarily structured by tillage, whereas soil fungal communities responded mainly to management type with additional effects by tillage. In roots, management type was also the driving factor for bacteria but not for fungi, which were generally determined by changes in tillage intensity. To quantify an “effect size” for microbiota manipulation, we found that about 10% of variation in microbial communities was explained by the tested cropping practices. Cropping sensitive microbes were taxonomically diverse, and they responded in guilds of taxa to the specific practices. These microbes also included frequent community members or members co-occurring with many other microbes in the community, suggesting that cropping practices may allow manipulation of influential community members.']"
     },
     "execution_count": 27,
     "metadata": {},
     "output_type": "execute_result"
    }
   ],
   "source": [
    "buggy_rows[0]"
   ],
   "metadata": {
    "collapsed": false
   }
  },
  {
   "cell_type": "markdown",
   "source": [
    "Okay, at least the first one is still the same. Maybe I should check max/min again."
   ],
   "metadata": {
    "collapsed": false
   }
  },
  {
   "cell_type": "code",
   "execution_count": 28,
   "outputs": [
    {
     "name": "stdout",
     "output_type": "stream",
     "text": [
      "2\n",
      "2\n"
     ]
    }
   ],
   "source": [
    "buggy_row_lens = [len(i) for i in buggy_rows]\n",
    "\n",
    "print(min(buggy_row_lens))\n",
    "print(max(buggy_row_lens))"
   ],
   "metadata": {
    "collapsed": false
   }
  },
  {
   "cell_type": "markdown",
   "source": [
    "That's correct because each one has the ID prepended to it. Right, moving on. Have to find their corresponding data.\n",
    "\n",
    "The title for the first abstract is \"Cropping practices manipulate abundance patterns of root and soil microbiome members paving the way to smart farming. Microbiome, 6(1):14.\", and it's row 21 in Numbers.\n",
    "\n",
    "First let's find out if it's anywhere in `rows` by de-nesting and searching it."
   ],
   "metadata": {
    "collapsed": false
   }
  },
  {
   "cell_type": "code",
   "execution_count": 42,
   "outputs": [
    {
     "data": {
      "text/plain": "0"
     },
     "execution_count": 42,
     "metadata": {},
     "output_type": "execute_result"
    }
   ],
   "source": [
    "flat_list = []\n",
    "\n",
    "for i in rows:\n",
    "    for j in i:\n",
    "        flat_list.append(j)\n",
    "\n",
    "flat_list.count(\"Cropping practices manipulate abundance patterns of root and soil microbiome members paving the way to smart farming. Microbiome, 6(1):14.\")"
   ],
   "metadata": {
    "collapsed": false
   }
  },
  {
   "cell_type": "markdown",
   "source": [
    "Nope. Let's check two more."
   ],
   "metadata": {
    "collapsed": false
   }
  },
  {
   "cell_type": "code",
   "execution_count": 31,
   "outputs": [
    {
     "data": {
      "text/plain": "[524,\n 'In future, value orientations should be given closer attention both in the preparation of soldiers for deployment and in therapy for psychic disorders associated with deployment.\"']"
     },
     "execution_count": 31,
     "metadata": {},
     "output_type": "execute_result"
    }
   ],
   "source": [
    "buggy_rows[-1]"
   ],
   "metadata": {
    "collapsed": false
   }
  },
  {
   "cell_type": "markdown",
   "source": [
    "Corresponding title, 674 in Numbers: \"Depressivität und Wert­orientierungen im Verlauf von militärischen Auslands­einsätzen. Trauma & Gewalt, 12(02):134-150.\"\n",
    "\n",
    "Well now here's an interesting case. The abstract is in both DE and EN, but the title is DE so it must be a DE article for which they provided the EN abstract also. I guess I should `langdetect` the titles instead of the abstracts.\n",
    "\n",
    "There are 547 when I `langdetect` the abstracts, but I can't do the titles until I get these buggy rows fixed because not all rows can be sliced the same."
   ],
   "metadata": {
    "collapsed": false
   }
  },
  {
   "cell_type": "code",
   "execution_count": 34,
   "outputs": [
    {
     "data": {
      "text/plain": "0"
     },
     "execution_count": 34,
     "metadata": {},
     "output_type": "execute_result"
    }
   ],
   "source": [
    "flat_list.count(\"Depressivität und Wert­orientierungen im Verlauf von militärischen Auslands­einsätzen. Trauma & Gewalt, 12(02):134-150.\")"
   ],
   "metadata": {
    "collapsed": false
   }
  },
  {
   "cell_type": "code",
   "execution_count": 32,
   "outputs": [
    {
     "data": {
      "text/plain": "[52,\n 'TRIAL REGISTRATION: This RCT was funded by the Swiss National Science Foundation (100019_169781/1) and was registered on 18/06/2018 at ClinicalTrials.gov : NCT03575559 .\"']"
     },
     "execution_count": 32,
     "metadata": {},
     "output_type": "execute_result"
    }
   ],
   "source": [
    "buggy_rows[10]"
   ],
   "metadata": {
    "collapsed": false
   }
  },
  {
   "cell_type": "markdown",
   "source": [
    "Title, x in Numbers: \"A cluster randomized controlled trial comparing the effectiveness of an individual planning intervention with collaborative planning in adolescent friendship dyads to enhance physical activity (TWOgether). BMC Public Health, 18(1):911.\""
   ],
   "metadata": {
    "collapsed": false
   }
  },
  {
   "cell_type": "code",
   "execution_count": 33,
   "outputs": [
    {
     "data": {
      "text/plain": "0"
     },
     "execution_count": 33,
     "metadata": {},
     "output_type": "execute_result"
    }
   ],
   "source": [
    "flat_list.count(\"A cluster randomized controlled trial comparing the effectiveness of an individual planning intervention with collaborative planning in adolescent friendship dyads to enhance physical activity (TWOgether). BMC Public Health, 18(1):911.\")"
   ],
   "metadata": {
    "collapsed": false
   }
  },
  {
   "cell_type": "markdown",
   "source": [
    "Right, so it appears the titles are gone. Now to figure out what happened.\n",
    "\n",
    "As a sanity check, let's do the same for a non-buggy row."
   ],
   "metadata": {
    "collapsed": false
   }
  },
  {
   "cell_type": "code",
   "execution_count": 44,
   "outputs": [
    {
     "data": {
      "text/plain": "0"
     },
     "execution_count": 44,
     "metadata": {},
     "output_type": "execute_result"
    }
   ],
   "source": [
    "flat_list.count(\"Behavioural economics, experimentalism and the marketization of development. Economy and Society, 44(4):567-591.\")"
   ],
   "metadata": {
    "collapsed": false
   }
  },
  {
   "cell_type": "code",
   "execution_count": 43,
   "outputs": [
    {
     "data": {
      "text/plain": "[1,\n 'SDG\\xa01.00',\n '\"Berndt, Christian\"',\n 'MNF',\n '2015',\n '\"Behavioural economics, experimentalism and the marketization of development. Economy and Society, 44(4):567-591.\"',\n '\"Behavioural economics, experimentalism and the marketization of development. Economy and Society, 44(4):567-591.\"',\n '\"Using market-based pro-poor development policy in the global South as an example, this paper engages with the rise of behaviourism and experimentalism as a challenge to the neoclassical orthodoxy and the more recent transformation into an influential policy script. After charting the rise of behavioural economics and discussing the key conceptual building blocks of the emerging behavioural mainstream in economics, the paper turns to the marketization of anti-poverty policy in the global South. Based on an analysis of policy documents, project reports and academic interventions, it is argued that the behavioural approach to poverty shifts the focus from the market to the market subject and engages in often thinly veiled attempts at behavioural engineering. This is achieved with the combined work of behavioural economic knowledge and socio-technical market devices.\"',\n 2,\n 'SDG\\xa01.00']"
     },
     "execution_count": 43,
     "metadata": {},
     "output_type": "execute_result"
    }
   ],
   "source": [
    "flat_list[:10]"
   ],
   "metadata": {
    "collapsed": false
   }
  },
  {
   "cell_type": "markdown",
   "source": [
    "I should have put extra quote marks???"
   ],
   "metadata": {
    "collapsed": false
   }
  },
  {
   "cell_type": "code",
   "execution_count": 45,
   "outputs": [
    {
     "data": {
      "text/plain": "2"
     },
     "execution_count": 45,
     "metadata": {},
     "output_type": "execute_result"
    }
   ],
   "source": [
    "flat_list.count('\"Behavioural economics, experimentalism and the marketization of development. Economy and Society, 44(4):567-591.\"')"
   ],
   "metadata": {
    "collapsed": false
   }
  },
  {
   "cell_type": "markdown",
   "source": [
    "Jesus Christ. Thank god for sanity checks. Leeeeet's try again with the buggy rows."
   ],
   "metadata": {
    "collapsed": false
   }
  },
  {
   "cell_type": "code",
   "execution_count": 47,
   "outputs": [
    {
     "data": {
      "text/plain": "2"
     },
     "execution_count": 47,
     "metadata": {},
     "output_type": "execute_result"
    }
   ],
   "source": [
    "flat_list.count('\"Cropping practices manipulate abundance patterns of root and soil microbiome members paving the way to smart farming. Microbiome, 6(1):14.\"')"
   ],
   "metadata": {
    "collapsed": false
   }
  },
  {
   "cell_type": "markdown",
   "source": [
    "Right, okay. Looks like they're in there."
   ],
   "metadata": {
    "collapsed": false
   }
  },
  {
   "cell_type": "code",
   "execution_count": 48,
   "outputs": [
    {
     "data": {
      "text/plain": "109"
     },
     "execution_count": 48,
     "metadata": {},
     "output_type": "execute_result"
    }
   ],
   "source": [
    "flat_list.index('\"Cropping practices manipulate abundance patterns of root and soil microbiome members paving the way to smart farming. Microbiome, 6(1):14.\"')"
   ],
   "metadata": {
    "collapsed": false
   }
  },
  {
   "cell_type": "code",
   "execution_count": 49,
   "outputs": [
    {
     "data": {
      "text/plain": "['2018',\n '\"A global meta-analysis of yield stability in organic and conservation agriculture. Nature Communications, 9:3632.\"',\n '\"A global meta-analysis of yield stability in organic and conservation agriculture. Nature Communications, 9:3632.\"',\n '\"One of the primary challenges of our time is to enhance global food production and security. Most assessments in agricultural systems focus on plant yield. Yet, these analyses neglect temporal yield stability, or the variability and reliability of production across years. Here we perform a meta-analysis to assess temporal yield stability of three major cropping systems: organic agriculture and conservation agriculture (no-tillage) vs. conventional agriculture, comparing 193 studies based on 2896 comparisons. Organic agriculture has, per unit yield, a significantly lower temporal stability (−15%) compared to conventional agriculture. Thus, although organic farming promotes biodiversity and is generally more environmentally friendly, future efforts should focus on reducing its yield variability. Our analysis further indicates that the use of green manure and enhanced fertilisation can reduce the yield stability gap between organic and conventional agriculture. The temporal stability (−3%) of no-tillage does not differ significantly from those of conventional tillage indicating that a transition to no-tillage does not affect yield stability.\"',\n 14,\n 'SDG\\xa02.00',\n '\"van der Heijden, Marcel G A\"',\n 'MNF',\n '2018',\n '\"Cropping practices manipulate abundance patterns of root and soil microbiome members paving the way to smart farming. Microbiome, 6(1):14.\"',\n '\"Cropping practices manipulate abundance patterns of root and soil microbiome members paving the way to smart farming. Microbiome, 6(1):14.\"',\n '\"Background Harnessing beneficial microbes presents a promising strategy to optimize plant growth and agricultural sustainability. Little is known to which extent and how specifically soil and plant microbiomes can be manipulated through different cropping practices. Here, we investigated soil and wheat root microbial communities in a cropping system experiment consisting of conventional and organic managements, both with different tillage intensities.',\n 15,\n 'Results While microbial richness was marginally affected, we found pronounced cropping effects on community composition, which were specific for the respective microbiomes. Soil bacterial communities were primarily structured by tillage, whereas soil fungal communities responded mainly to management type with additional effects by tillage. In roots, management type was also the driving factor for bacteria but not for fungi, which were generally determined by changes in tillage intensity. To quantify an “effect size” for microbiota manipulation, we found that about 10% of variation in microbial communities was explained by the tested cropping practices. Cropping sensitive microbes were taxonomically diverse, and they responded in guilds of taxa to the specific practices. These microbes also included frequent community members or members co-occurring with many other microbes in the community, suggesting that cropping practices may allow manipulation of influential community members.',\n 16,\n 'Conclusions Understanding the abundance patterns of cropping sensitive microbes presents the basis towards developing microbiota management strategies for smart farming. For future targeted microbiota management—e.g., to foster certain microbes with specific agricultural practices—a next step will be to identify the functional traits of the cropping sensitive microbes.\"',\n 17,\n 'SDG\\xa02.00',\n '\"van der Heijden, Marcel G A\"',\n 'MNF']"
     },
     "execution_count": 49,
     "metadata": {},
     "output_type": "execute_result"
    }
   ],
   "source": [
    "flat_list[100:120]"
   ],
   "metadata": {
    "collapsed": false
   }
  },
  {
   "cell_type": "markdown",
   "source": [
    "So I guess I have to do something about the newlines when I read in the file."
   ],
   "metadata": {
    "collapsed": false
   }
  },
  {
   "cell_type": "code",
   "execution_count": 53,
   "outputs": [
    {
     "data": {
      "text/plain": "547"
     },
     "execution_count": 53,
     "metadata": {},
     "output_type": "execute_result"
    }
   ],
   "source": [
    "with open(\"data/robin_data.tsv\") as f:\n",
    "    rows = []\n",
    "    row_id = 0\n",
    "\n",
    "    for line in f:\n",
    "        line = line.rstrip(\"\\n\")\n",
    "        row = line.split(\"\\t\")\n",
    "\n",
    "        # Only those with abstracts\n",
    "        if row[-1] != \"\" and row[-1] != \"\\\"\" and detect(row[-1]) == \"en\":\n",
    "            if \"\\n\" in row[-1]:\n",
    "                row[-1].replace(\"\\n\", \" \")\n",
    "            row_id += 1\n",
    "            row.insert(0, row_id)\n",
    "            rows.append(row)\n",
    "\n",
    "len(rows)"
   ],
   "metadata": {
    "collapsed": false
   }
  },
  {
   "cell_type": "markdown",
   "source": [
    "Hmm. There were 547 rows before I did this -_-\n",
    "\n",
    "Commence tiny dumb manual experiment."
   ],
   "metadata": {
    "collapsed": false
   }
  },
  {
   "cell_type": "code",
   "execution_count": 51,
   "outputs": [
    {
     "data": {
      "text/plain": "[15,\n 'Results While microbial richness was marginally affected, we found pronounced cropping effects on community composition, which were specific for the respective microbiomes. Soil bacterial communities were primarily structured by tillage, whereas soil fungal communities responded mainly to management type with additional effects by tillage. In roots, management type was also the driving factor for bacteria but not for fungi, which were generally determined by changes in tillage intensity. To quantify an “effect size” for microbiota manipulation, we found that about 10% of variation in microbial communities was explained by the tested cropping practices. Cropping sensitive microbes were taxonomically diverse, and they responded in guilds of taxa to the specific practices. These microbes also included frequent community members or members co-occurring with many other microbes in the community, suggesting that cropping practices may allow manipulation of influential community members.']"
     },
     "execution_count": 51,
     "metadata": {},
     "output_type": "execute_result"
    }
   ],
   "source": [
    "buggy_rows[0]"
   ],
   "metadata": {
    "collapsed": false
   }
  },
  {
   "cell_type": "code",
   "execution_count": 52,
   "outputs": [
    {
     "data": {
      "text/plain": "[14,\n 'SDG\\xa02.00',\n '\"van der Heijden, Marcel G A\"',\n 'MNF',\n '2018',\n '\"Cropping practices manipulate abundance patterns of root and soil microbiome members paving the way to smart farming. Microbiome, 6(1):14.\"',\n '\"Cropping practices manipulate abundance patterns of root and soil microbiome members paving the way to smart farming. Microbiome, 6(1):14.\"',\n '\"Background Harnessing beneficial microbes presents a promising strategy to optimize plant growth and agricultural sustainability. Little is known to which extent and how specifically soil and plant microbiomes can be manipulated through different cropping practices. Here, we investigated soil and wheat root microbial communities in a cropping system experiment consisting of conventional and organic managements, both with different tillage intensities.']"
     },
     "execution_count": 52,
     "metadata": {},
     "output_type": "execute_result"
    }
   ],
   "source": [
    "rows[13]"
   ],
   "metadata": {
    "collapsed": false
   }
  },
  {
   "cell_type": "markdown",
   "source": [
    "What happens is that the first part of the abstract before the newline gets saved with the right data, and the subsequent parts are cut off and end up floating on their own.\n",
    "\n",
    "What if I try replacing the newlines before tab-splitting?\n",
    "\n",
    "Also, `.replace()` returns a value. I forgot to save it."
   ],
   "metadata": {
    "collapsed": false
   }
  },
  {
   "cell_type": "code",
   "execution_count": 54,
   "outputs": [
    {
     "data": {
      "text/plain": "547"
     },
     "execution_count": 54,
     "metadata": {},
     "output_type": "execute_result"
    }
   ],
   "source": [
    "with open(\"data/robin_data.tsv\") as f:\n",
    "    rows = []\n",
    "    row_id = 0\n",
    "\n",
    "    for line in f:\n",
    "        line = line.rstrip(\"\\n\")\n",
    "        if \"\\n\" in line:\n",
    "            line = line.replace(\"\\n\", \" \")\n",
    "        row = line.split(\"\\t\")\n",
    "\n",
    "        # Only those with abstracts\n",
    "        if row[-1] != \"\" and row[-1] != \"\\\"\" and detect(row[-1]) == \"en\":\n",
    "            row_id += 1\n",
    "            row.insert(0, row_id)\n",
    "            rows.append(row)\n",
    "\n",
    "len(rows)"
   ],
   "metadata": {
    "collapsed": false
   }
  },
  {
   "cell_type": "markdown",
   "source": [
    "What the actual fuck. Let's check that the if-condition is even being entered."
   ],
   "metadata": {
    "collapsed": false
   }
  },
  {
   "cell_type": "code",
   "execution_count": 55,
   "outputs": [
    {
     "data": {
      "text/plain": "547"
     },
     "execution_count": 55,
     "metadata": {},
     "output_type": "execute_result"
    }
   ],
   "source": [
    "with open(\"data/robin_data.tsv\") as f:\n",
    "    rows = []\n",
    "    row_id = 0\n",
    "\n",
    "    for line in f:\n",
    "        line = line.rstrip(\"\\n\")\n",
    "        if \"\\n\" in line:\n",
    "            print(\"something happened\")\n",
    "            line = line.replace(\"\\n\", \" \")\n",
    "        row = line.split(\"\\t\")\n",
    "\n",
    "        # Only those with abstracts\n",
    "        if row[-1] != \"\" and row[-1] != \"\\\"\" and detect(row[-1]) == \"en\":\n",
    "            row_id += 1\n",
    "            row.insert(0, row_id)\n",
    "            rows.append(row)\n",
    "\n",
    "len(rows)"
   ],
   "metadata": {
    "collapsed": false
   }
  },
  {
   "cell_type": "markdown",
   "source": [
    "Let's try taking it out of the if-condition entirely, maybe it will just do nothing if it's not in there anyway."
   ],
   "metadata": {
    "collapsed": false
   }
  },
  {
   "cell_type": "code",
   "execution_count": 56,
   "outputs": [
    {
     "data": {
      "text/plain": "547"
     },
     "execution_count": 56,
     "metadata": {},
     "output_type": "execute_result"
    }
   ],
   "source": [
    "with open(\"data/robin_data.tsv\") as f:\n",
    "    rows = []\n",
    "    row_id = 0\n",
    "\n",
    "    for line in f:\n",
    "        line = line.rstrip(\"\\n\")\n",
    "        line = line.replace(\"\\n\", \" \")\n",
    "        row = line.split(\"\\t\")\n",
    "\n",
    "        # Only those with abstracts\n",
    "        if row[-1] != \"\" and row[-1] != \"\\\"\" and detect(row[-1]) == \"en\":\n",
    "            row_id += 1\n",
    "            row.insert(0, row_id)\n",
    "            rows.append(row)\n",
    "\n",
    "len(rows)"
   ],
   "metadata": {
    "collapsed": false
   }
  },
  {
   "cell_type": "markdown",
   "source": [
    "UGH"
   ],
   "metadata": {
    "collapsed": false
   }
  },
  {
   "cell_type": "code",
   "execution_count": 59,
   "outputs": [
    {
     "data": {
      "text/plain": "[[14,\n  'SDG\\xa02.00',\n  '\"van der Heijden, Marcel G A\"',\n  'MNF',\n  '2018',\n  '\"Cropping practices manipulate abundance patterns of root and soil microbiome members paving the way to smart farming. Microbiome, 6(1):14.\"',\n  '\"Cropping practices manipulate abundance patterns of root and soil microbiome members paving the way to smart farming. Microbiome, 6(1):14.\"',\n  '\"Background Harnessing beneficial microbes presents a promising strategy to optimize plant growth and agricultural sustainability. Little is known to which extent and how specifically soil and plant microbiomes can be manipulated through different cropping practices. Here, we investigated soil and wheat root microbial communities in a cropping system experiment consisting of conventional and organic managements, both with different tillage intensities.'],\n [15,\n  'Results While microbial richness was marginally affected, we found pronounced cropping effects on community composition, which were specific for the respective microbiomes. Soil bacterial communities were primarily structured by tillage, whereas soil fungal communities responded mainly to management type with additional effects by tillage. In roots, management type was also the driving factor for bacteria but not for fungi, which were generally determined by changes in tillage intensity. To quantify an “effect size” for microbiota manipulation, we found that about 10% of variation in microbial communities was explained by the tested cropping practices. Cropping sensitive microbes were taxonomically diverse, and they responded in guilds of taxa to the specific practices. These microbes also included frequent community members or members co-occurring with many other microbes in the community, suggesting that cropping practices may allow manipulation of influential community members.']]"
     },
     "execution_count": 59,
     "metadata": {},
     "output_type": "execute_result"
    }
   ],
   "source": [
    "rows[13:15]"
   ],
   "metadata": {
    "collapsed": false
   }
  },
  {
   "cell_type": "markdown",
   "source": [
    "AH THE PROBLEM IS NOT THAT THERE IS A NEWLINE IN THERE, IT'S THAT IT'S SEPARATE STRINGS (looked at the .tsv).\n",
    "\n",
    "Now what am I gonna do. The erroneous pieces are already being read in as `line`s, so after that point maybe I have to use char literals or Regex to glue them back together before any of the rest of the code.\n",
    "\n",
    "I should probably also really move on from this whole endeavour, which began just because I wanted a fucking average token count for abstracts in Robin's subset. Maybe I could have done this in the Terminal."
   ],
   "metadata": {
    "collapsed": false
   }
  },
  {
   "cell_type": "code",
   "execution_count": null,
   "outputs": [],
   "source": [],
   "metadata": {
    "collapsed": false
   }
  }
 ],
 "metadata": {
  "kernelspec": {
   "display_name": "Python 3",
   "language": "python",
   "name": "python3"
  },
  "language_info": {
   "codemirror_mode": {
    "name": "ipython",
    "version": 2
   },
   "file_extension": ".py",
   "mimetype": "text/x-python",
   "name": "python",
   "nbconvert_exporter": "python",
   "pygments_lexer": "ipython2",
   "version": "2.7.6"
  }
 },
 "nbformat": 4,
 "nbformat_minor": 0
}
